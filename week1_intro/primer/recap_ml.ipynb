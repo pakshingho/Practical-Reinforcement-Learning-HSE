{
  "nbformat": 4,
  "nbformat_minor": 0,
  "metadata": {
    "colab": {
      "name": "recap_ml.ipynb",
      "provenance": [],
      "collapsed_sections": [],
      "include_colab_link": true
    },
    "kernelspec": {
      "name": "python3",
      "display_name": "Python 3"
    }
  },
  "cells": [
    {
      "cell_type": "markdown",
      "metadata": {
        "id": "view-in-github",
        "colab_type": "text"
      },
      "source": [
        "<a href=\"https://colab.research.google.com/github/pakshingho/Practical-Reinforcement-Learning-HSE/blob/main/week1_intro/primer/recap_ml.ipynb\" target=\"_parent\"><img src=\"https://colab.research.google.com/assets/colab-badge.svg\" alt=\"Open In Colab\"/></a>"
      ]
    },
    {
      "cell_type": "markdown",
      "metadata": {
        "id": "npQw1BkRxIii"
      },
      "source": [
        "<center>\n",
        "A crash course in\n",
        "<br><br>\n",
        "<b><font size=44px>Surviving Titanic</font></b>\n",
        "<br><br>\n",
        "(with numpy and matplotlib)\n",
        "</center>\n",
        "\n",
        "---\n",
        "\n",
        "This notebook is going to teach you to use the basic data science stack for Python: Jupyter, Numpy, matplotlib, and sklearn."
      ]
    },
    {
      "cell_type": "markdown",
      "metadata": {
        "id": "KBMsdfaBxIiu"
      },
      "source": [
        "### Part I: Jupyter notebooks in a nutshell\n",
        "* You are reading this line in a jupyter notebook.\n",
        "* A notebook consists of cells. A cell can contain either code or hypertext. \n",
        "    * This cell contains hypertext. The next cell contains code.\n",
        "* You can __run a cell__ with code by selecting it (click) and pressing `Ctrl + Enter` to execute the code and display output(if any).\n",
        "* If you're running this on a device with no keyboard, ~~you are doing it wrong~~ use the top bar (esp. play/stop/restart buttons) to run code.\n",
        "* Behind the curtains, there's a Python interpreter that runs that code and remembers anything you defined.\n",
        "\n",
        "Run these cells to get started"
      ]
    },
    {
      "cell_type": "code",
      "metadata": {
        "id": "W6Rk0ungxIiv"
      },
      "source": [
        "a = 5"
      ],
      "execution_count": 2,
      "outputs": []
    },
    {
      "cell_type": "code",
      "metadata": {
        "id": "fCn4LnFvxIiw",
        "colab": {
          "base_uri": "https://localhost:8080/"
        },
        "outputId": "bf48b202-1852-4aa9-8625-b65cf08273a3"
      },
      "source": [
        "print(a * 2)"
      ],
      "execution_count": 3,
      "outputs": [
        {
          "output_type": "stream",
          "text": [
            "10\n"
          ],
          "name": "stdout"
        }
      ]
    },
    {
      "cell_type": "markdown",
      "metadata": {
        "id": "y6ZOV7-ExIiy"
      },
      "source": [
        "* `Ctrl + S` to save changes (or use the button that looks like a floppy disk)\n",
        "* Top menu → Kernel → Interrupt (or Stop button) if you want it to stop running cell midway.\n",
        "* Top menu → Kernel → Restart (or cyclic arrow button) if interrupt doesn't fix the problem (you will lose all variables).\n",
        "* For shortcut junkies like us: Top menu → Help → Keyboard Shortcuts\n",
        "\n",
        "\n",
        "* More: [Hacker's guide](http://arogozhnikov.github.io/2016/09/10/jupyter-features.html), [Beginner's guide](https://jupyter-notebook-beginner-guide.readthedocs.io/en/latest/), [Datacamp tutorial](https://www.datacamp.com/community/tutorials/tutorial-jupyter-notebook)\n",
        "\n",
        "Now __the most important feature__ of jupyter notebooks for this course: \n",
        "* if you're typing something, press `Tab` to see automatic suggestions, use arrow keys + enter to pick one.\n",
        "* if you move your cursor inside some function and press `Shift + Tab`, you'll get a help window. `Shift + (Tab , Tab)` (press `Tab` twice) will expand it."
      ]
    },
    {
      "cell_type": "code",
      "metadata": {
        "id": "AvJQU_JjxIiy"
      },
      "source": [
        "# run this first\n",
        "import math"
      ],
      "execution_count": 4,
      "outputs": []
    },
    {
      "cell_type": "code",
      "metadata": {
        "id": "JAgrYS2oxIiz",
        "colab": {
          "base_uri": "https://localhost:8080/",
          "height": 198
        },
        "outputId": "ea1af746-72db-4433-d8d9-76a262835d3f"
      },
      "source": [
        "# place your cursor at the end of the unfinished line below to find a function\n",
        "# that computes arctangent from two parameters (should have 2 in it's name)\n",
        "# once you chose it, press shift + tab + tab(again) to see the docs\n",
        "\n",
        "math.a  # <---"
      ],
      "execution_count": 5,
      "outputs": [
        {
          "output_type": "error",
          "ename": "AttributeError",
          "evalue": "ignored",
          "traceback": [
            "\u001b[0;31m---------------------------------------------------------------------------\u001b[0m",
            "\u001b[0;31mAttributeError\u001b[0m                            Traceback (most recent call last)",
            "\u001b[0;32m<ipython-input-5-f6e988b9023e>\u001b[0m in \u001b[0;36m<module>\u001b[0;34m()\u001b[0m\n\u001b[1;32m      3\u001b[0m \u001b[0;31m# once you chose it, press shift + tab + tab(again) to see the docs\u001b[0m\u001b[0;34m\u001b[0m\u001b[0;34m\u001b[0m\u001b[0;34m\u001b[0m\u001b[0m\n\u001b[1;32m      4\u001b[0m \u001b[0;34m\u001b[0m\u001b[0m\n\u001b[0;32m----> 5\u001b[0;31m \u001b[0mmath\u001b[0m\u001b[0;34m.\u001b[0m\u001b[0ma\u001b[0m  \u001b[0;31m# <---\u001b[0m\u001b[0;34m\u001b[0m\u001b[0;34m\u001b[0m\u001b[0m\n\u001b[0m",
            "\u001b[0;31mAttributeError\u001b[0m: module 'math' has no attribute 'a'"
          ]
        }
      ]
    },
    {
      "cell_type": "markdown",
      "metadata": {
        "id": "qE-cpC-BxIiz"
      },
      "source": [
        "### Part II: Loading data with Pandas\n",
        "Pandas is a library that helps you load the data, prepare it and perform some lightweight analysis. The god object here is the `pandas.DataFrame` - a 2D table with batteries included. \n",
        "\n",
        "In the cells below we use it to read the data on the infamous titanic shipwreck.\n",
        "\n",
        "__please keep running all the code cells as you read__"
      ]
    },
    {
      "cell_type": "code",
      "metadata": {
        "id": "PwS5XNnDxIi0"
      },
      "source": [
        "# If you are running in Google Colab, this cell will download the dataset from our repository.\n",
        "# Otherwise, this cell will do nothing.\n",
        "\n",
        "import sys\n",
        "if 'google.colab' in sys.modules:\n",
        "    !wget -q https://raw.githubusercontent.com/yandexdataschool/Practical_RL/coursera/week1_intro/primer/train.csv"
      ],
      "execution_count": 6,
      "outputs": []
    },
    {
      "cell_type": "code",
      "metadata": {
        "id": "JpBv8KuUxIi0"
      },
      "source": [
        "import pandas as pd\n",
        "# this yields a pandas.DataFrame\n",
        "data = pd.read_csv(\"train.csv\", index_col='PassengerId')"
      ],
      "execution_count": 89,
      "outputs": []
    },
    {
      "cell_type": "code",
      "metadata": {
        "id": "62W2_4f1xIi0",
        "colab": {
          "base_uri": "https://localhost:8080/",
          "height": 390
        },
        "outputId": "c574865c-c339-42ef-d892-8fb4ff4ea4cc"
      },
      "source": [
        "# Selecting rows\n",
        "head = data[:10]\n",
        "\n",
        "head  # if you leave an expression at the end of a cell, jupyter will \"display\" it automatically"
      ],
      "execution_count": 8,
      "outputs": [
        {
          "output_type": "execute_result",
          "data": {
            "text/html": [
              "<div>\n",
              "<style scoped>\n",
              "    .dataframe tbody tr th:only-of-type {\n",
              "        vertical-align: middle;\n",
              "    }\n",
              "\n",
              "    .dataframe tbody tr th {\n",
              "        vertical-align: top;\n",
              "    }\n",
              "\n",
              "    .dataframe thead th {\n",
              "        text-align: right;\n",
              "    }\n",
              "</style>\n",
              "<table border=\"1\" class=\"dataframe\">\n",
              "  <thead>\n",
              "    <tr style=\"text-align: right;\">\n",
              "      <th></th>\n",
              "      <th>Survived</th>\n",
              "      <th>Pclass</th>\n",
              "      <th>Name</th>\n",
              "      <th>Sex</th>\n",
              "      <th>Age</th>\n",
              "      <th>SibSp</th>\n",
              "      <th>Parch</th>\n",
              "      <th>Ticket</th>\n",
              "      <th>Fare</th>\n",
              "      <th>Cabin</th>\n",
              "      <th>Embarked</th>\n",
              "    </tr>\n",
              "    <tr>\n",
              "      <th>PassengerId</th>\n",
              "      <th></th>\n",
              "      <th></th>\n",
              "      <th></th>\n",
              "      <th></th>\n",
              "      <th></th>\n",
              "      <th></th>\n",
              "      <th></th>\n",
              "      <th></th>\n",
              "      <th></th>\n",
              "      <th></th>\n",
              "      <th></th>\n",
              "    </tr>\n",
              "  </thead>\n",
              "  <tbody>\n",
              "    <tr>\n",
              "      <th>1</th>\n",
              "      <td>0</td>\n",
              "      <td>3</td>\n",
              "      <td>Braund, Mr. Owen Harris</td>\n",
              "      <td>male</td>\n",
              "      <td>22.0</td>\n",
              "      <td>1</td>\n",
              "      <td>0</td>\n",
              "      <td>A/5 21171</td>\n",
              "      <td>7.2500</td>\n",
              "      <td>NaN</td>\n",
              "      <td>S</td>\n",
              "    </tr>\n",
              "    <tr>\n",
              "      <th>2</th>\n",
              "      <td>1</td>\n",
              "      <td>1</td>\n",
              "      <td>Cumings, Mrs. John Bradley (Florence Briggs Th...</td>\n",
              "      <td>female</td>\n",
              "      <td>38.0</td>\n",
              "      <td>1</td>\n",
              "      <td>0</td>\n",
              "      <td>PC 17599</td>\n",
              "      <td>71.2833</td>\n",
              "      <td>C85</td>\n",
              "      <td>C</td>\n",
              "    </tr>\n",
              "    <tr>\n",
              "      <th>3</th>\n",
              "      <td>1</td>\n",
              "      <td>3</td>\n",
              "      <td>Heikkinen, Miss. Laina</td>\n",
              "      <td>female</td>\n",
              "      <td>26.0</td>\n",
              "      <td>0</td>\n",
              "      <td>0</td>\n",
              "      <td>STON/O2. 3101282</td>\n",
              "      <td>7.9250</td>\n",
              "      <td>NaN</td>\n",
              "      <td>S</td>\n",
              "    </tr>\n",
              "    <tr>\n",
              "      <th>4</th>\n",
              "      <td>1</td>\n",
              "      <td>1</td>\n",
              "      <td>Futrelle, Mrs. Jacques Heath (Lily May Peel)</td>\n",
              "      <td>female</td>\n",
              "      <td>35.0</td>\n",
              "      <td>1</td>\n",
              "      <td>0</td>\n",
              "      <td>113803</td>\n",
              "      <td>53.1000</td>\n",
              "      <td>C123</td>\n",
              "      <td>S</td>\n",
              "    </tr>\n",
              "    <tr>\n",
              "      <th>5</th>\n",
              "      <td>0</td>\n",
              "      <td>3</td>\n",
              "      <td>Allen, Mr. William Henry</td>\n",
              "      <td>male</td>\n",
              "      <td>35.0</td>\n",
              "      <td>0</td>\n",
              "      <td>0</td>\n",
              "      <td>373450</td>\n",
              "      <td>8.0500</td>\n",
              "      <td>NaN</td>\n",
              "      <td>S</td>\n",
              "    </tr>\n",
              "    <tr>\n",
              "      <th>6</th>\n",
              "      <td>0</td>\n",
              "      <td>3</td>\n",
              "      <td>Moran, Mr. James</td>\n",
              "      <td>male</td>\n",
              "      <td>NaN</td>\n",
              "      <td>0</td>\n",
              "      <td>0</td>\n",
              "      <td>330877</td>\n",
              "      <td>8.4583</td>\n",
              "      <td>NaN</td>\n",
              "      <td>Q</td>\n",
              "    </tr>\n",
              "    <tr>\n",
              "      <th>7</th>\n",
              "      <td>0</td>\n",
              "      <td>1</td>\n",
              "      <td>McCarthy, Mr. Timothy J</td>\n",
              "      <td>male</td>\n",
              "      <td>54.0</td>\n",
              "      <td>0</td>\n",
              "      <td>0</td>\n",
              "      <td>17463</td>\n",
              "      <td>51.8625</td>\n",
              "      <td>E46</td>\n",
              "      <td>S</td>\n",
              "    </tr>\n",
              "    <tr>\n",
              "      <th>8</th>\n",
              "      <td>0</td>\n",
              "      <td>3</td>\n",
              "      <td>Palsson, Master. Gosta Leonard</td>\n",
              "      <td>male</td>\n",
              "      <td>2.0</td>\n",
              "      <td>3</td>\n",
              "      <td>1</td>\n",
              "      <td>349909</td>\n",
              "      <td>21.0750</td>\n",
              "      <td>NaN</td>\n",
              "      <td>S</td>\n",
              "    </tr>\n",
              "    <tr>\n",
              "      <th>9</th>\n",
              "      <td>1</td>\n",
              "      <td>3</td>\n",
              "      <td>Johnson, Mrs. Oscar W (Elisabeth Vilhelmina Berg)</td>\n",
              "      <td>female</td>\n",
              "      <td>27.0</td>\n",
              "      <td>0</td>\n",
              "      <td>2</td>\n",
              "      <td>347742</td>\n",
              "      <td>11.1333</td>\n",
              "      <td>NaN</td>\n",
              "      <td>S</td>\n",
              "    </tr>\n",
              "    <tr>\n",
              "      <th>10</th>\n",
              "      <td>1</td>\n",
              "      <td>2</td>\n",
              "      <td>Nasser, Mrs. Nicholas (Adele Achem)</td>\n",
              "      <td>female</td>\n",
              "      <td>14.0</td>\n",
              "      <td>1</td>\n",
              "      <td>0</td>\n",
              "      <td>237736</td>\n",
              "      <td>30.0708</td>\n",
              "      <td>NaN</td>\n",
              "      <td>C</td>\n",
              "    </tr>\n",
              "  </tbody>\n",
              "</table>\n",
              "</div>"
            ],
            "text/plain": [
              "             Survived  Pclass  ... Cabin Embarked\n",
              "PassengerId                    ...               \n",
              "1                   0       3  ...   NaN        S\n",
              "2                   1       1  ...   C85        C\n",
              "3                   1       3  ...   NaN        S\n",
              "4                   1       1  ...  C123        S\n",
              "5                   0       3  ...   NaN        S\n",
              "6                   0       3  ...   NaN        Q\n",
              "7                   0       1  ...   E46        S\n",
              "8                   0       3  ...   NaN        S\n",
              "9                   1       3  ...   NaN        S\n",
              "10                  1       2  ...   NaN        C\n",
              "\n",
              "[10 rows x 11 columns]"
            ]
          },
          "metadata": {
            "tags": []
          },
          "execution_count": 8
        }
      ]
    },
    {
      "cell_type": "markdown",
      "metadata": {
        "id": "rd36D99WxIi2"
      },
      "source": [
        "#### About the data\n",
        "Here's some of the columns\n",
        "* Name - a string with person's full name\n",
        "* Survived - 1 if a person survived the shipwreck, 0 otherwise.\n",
        "* Pclass - passenger class. Pclass == 3 is cheap'n'cheerful, Pclass == 1 is for moneybags.\n",
        "* Sex - a person's gender (in those good ol' times when there were just 2 of them)\n",
        "* Age - age in years, if available\n",
        "* Sibsp - number of siblings on a ship\n",
        "* Parch - number of parents on a ship\n",
        "* Fare - ticket cost\n",
        "* Embarked - port where the passenger embarked\n",
        " * C = Cherbourg; Q = Queenstown; S = Southampton"
      ]
    },
    {
      "cell_type": "code",
      "metadata": {
        "id": "ddl7W7H3xIi2",
        "colab": {
          "base_uri": "https://localhost:8080/"
        },
        "outputId": "04a61a40-04f1-4acf-e3c2-4ef9779a8d20"
      },
      "source": [
        "# table dimensions\n",
        "print(\"len(data) =\", len(data))\n",
        "print(\"data.shape =\", data.shape)"
      ],
      "execution_count": 9,
      "outputs": [
        {
          "output_type": "stream",
          "text": [
            "len(data) = 891\n",
            "data.shape = (891, 11)\n"
          ],
          "name": "stdout"
        }
      ]
    },
    {
      "cell_type": "code",
      "metadata": {
        "id": "i3mOHYthxIi3",
        "colab": {
          "base_uri": "https://localhost:8080/"
        },
        "outputId": "79499b75-c45c-454b-fba0-50127a30b59e"
      },
      "source": [
        "# select a single row by PassengerId (using .loc)\n",
        "print(data.loc[4])"
      ],
      "execution_count": 10,
      "outputs": [
        {
          "output_type": "stream",
          "text": [
            "Survived                                               1\n",
            "Pclass                                                 1\n",
            "Name        Futrelle, Mrs. Jacques Heath (Lily May Peel)\n",
            "Sex                                               female\n",
            "Age                                                   35\n",
            "SibSp                                                  1\n",
            "Parch                                                  0\n",
            "Ticket                                            113803\n",
            "Fare                                                53.1\n",
            "Cabin                                               C123\n",
            "Embarked                                               S\n",
            "Name: 4, dtype: object\n"
          ],
          "name": "stdout"
        }
      ]
    },
    {
      "cell_type": "code",
      "metadata": {
        "id": "YVqTMMvdxIi3",
        "colab": {
          "base_uri": "https://localhost:8080/"
        },
        "outputId": "c33e1fd7-587c-417f-970a-09e2b83135b2"
      },
      "source": [
        "# select a single row by index (using .iloc)\n",
        "print(data.iloc[3])"
      ],
      "execution_count": 11,
      "outputs": [
        {
          "output_type": "stream",
          "text": [
            "Survived                                               1\n",
            "Pclass                                                 1\n",
            "Name        Futrelle, Mrs. Jacques Heath (Lily May Peel)\n",
            "Sex                                               female\n",
            "Age                                                   35\n",
            "SibSp                                                  1\n",
            "Parch                                                  0\n",
            "Ticket                                            113803\n",
            "Fare                                                53.1\n",
            "Cabin                                               C123\n",
            "Embarked                                               S\n",
            "Name: 4, dtype: object\n"
          ],
          "name": "stdout"
        }
      ]
    },
    {
      "cell_type": "code",
      "metadata": {
        "id": "DTftbm9XxIi4",
        "colab": {
          "base_uri": "https://localhost:8080/"
        },
        "outputId": "c718ee42-fc40-4197-f063-c4142080cc85"
      },
      "source": [
        "# select a single column.\n",
        "ages = data[\"Age\"]\n",
        "print(ages[:10])  # alternatively: data.Age"
      ],
      "execution_count": 12,
      "outputs": [
        {
          "output_type": "stream",
          "text": [
            "PassengerId\n",
            "1     22.0\n",
            "2     38.0\n",
            "3     26.0\n",
            "4     35.0\n",
            "5     35.0\n",
            "6      NaN\n",
            "7     54.0\n",
            "8      2.0\n",
            "9     27.0\n",
            "10    14.0\n",
            "Name: Age, dtype: float64\n"
          ],
          "name": "stdout"
        }
      ]
    },
    {
      "cell_type": "code",
      "metadata": {
        "id": "Lfu5RoNNxIi4",
        "colab": {
          "base_uri": "https://localhost:8080/",
          "height": 266
        },
        "outputId": "2f4f87a3-3e3d-4579-f8cd-cf5bc625751e"
      },
      "source": [
        "# select several columns and rows at once\n",
        "# alternatively: data[[\"Fare\",\"Pclass\"]].loc[5:10]\n",
        "data.loc[5:10, (\"Fare\", \"Pclass\")]"
      ],
      "execution_count": 13,
      "outputs": [
        {
          "output_type": "execute_result",
          "data": {
            "text/html": [
              "<div>\n",
              "<style scoped>\n",
              "    .dataframe tbody tr th:only-of-type {\n",
              "        vertical-align: middle;\n",
              "    }\n",
              "\n",
              "    .dataframe tbody tr th {\n",
              "        vertical-align: top;\n",
              "    }\n",
              "\n",
              "    .dataframe thead th {\n",
              "        text-align: right;\n",
              "    }\n",
              "</style>\n",
              "<table border=\"1\" class=\"dataframe\">\n",
              "  <thead>\n",
              "    <tr style=\"text-align: right;\">\n",
              "      <th></th>\n",
              "      <th>Fare</th>\n",
              "      <th>Pclass</th>\n",
              "    </tr>\n",
              "    <tr>\n",
              "      <th>PassengerId</th>\n",
              "      <th></th>\n",
              "      <th></th>\n",
              "    </tr>\n",
              "  </thead>\n",
              "  <tbody>\n",
              "    <tr>\n",
              "      <th>5</th>\n",
              "      <td>8.0500</td>\n",
              "      <td>3</td>\n",
              "    </tr>\n",
              "    <tr>\n",
              "      <th>6</th>\n",
              "      <td>8.4583</td>\n",
              "      <td>3</td>\n",
              "    </tr>\n",
              "    <tr>\n",
              "      <th>7</th>\n",
              "      <td>51.8625</td>\n",
              "      <td>1</td>\n",
              "    </tr>\n",
              "    <tr>\n",
              "      <th>8</th>\n",
              "      <td>21.0750</td>\n",
              "      <td>3</td>\n",
              "    </tr>\n",
              "    <tr>\n",
              "      <th>9</th>\n",
              "      <td>11.1333</td>\n",
              "      <td>3</td>\n",
              "    </tr>\n",
              "    <tr>\n",
              "      <th>10</th>\n",
              "      <td>30.0708</td>\n",
              "      <td>2</td>\n",
              "    </tr>\n",
              "  </tbody>\n",
              "</table>\n",
              "</div>"
            ],
            "text/plain": [
              "                Fare  Pclass\n",
              "PassengerId                 \n",
              "5             8.0500       3\n",
              "6             8.4583       3\n",
              "7            51.8625       1\n",
              "8            21.0750       3\n",
              "9            11.1333       3\n",
              "10           30.0708       2"
            ]
          },
          "metadata": {
            "tags": []
          },
          "execution_count": 13
        }
      ]
    },
    {
      "cell_type": "markdown",
      "metadata": {
        "id": "XhF6gL64xIi4"
      },
      "source": [
        "## Your turn:\n"
      ]
    },
    {
      "cell_type": "code",
      "metadata": {
        "id": "Pziw-IuRxIi4",
        "colab": {
          "base_uri": "https://localhost:8080/",
          "height": 450
        },
        "outputId": "66e0113c-9f19-4d5a-8cf3-754f4e95a706"
      },
      "source": [
        "# Select passengers number 13 and 666 (with these PassengerId values). Did they survive?\n",
        "\n",
        "data.loc[13:666, ['Survived']]"
      ],
      "execution_count": 14,
      "outputs": [
        {
          "output_type": "execute_result",
          "data": {
            "text/html": [
              "<div>\n",
              "<style scoped>\n",
              "    .dataframe tbody tr th:only-of-type {\n",
              "        vertical-align: middle;\n",
              "    }\n",
              "\n",
              "    .dataframe tbody tr th {\n",
              "        vertical-align: top;\n",
              "    }\n",
              "\n",
              "    .dataframe thead th {\n",
              "        text-align: right;\n",
              "    }\n",
              "</style>\n",
              "<table border=\"1\" class=\"dataframe\">\n",
              "  <thead>\n",
              "    <tr style=\"text-align: right;\">\n",
              "      <th></th>\n",
              "      <th>Survived</th>\n",
              "    </tr>\n",
              "    <tr>\n",
              "      <th>PassengerId</th>\n",
              "      <th></th>\n",
              "    </tr>\n",
              "  </thead>\n",
              "  <tbody>\n",
              "    <tr>\n",
              "      <th>13</th>\n",
              "      <td>0</td>\n",
              "    </tr>\n",
              "    <tr>\n",
              "      <th>14</th>\n",
              "      <td>0</td>\n",
              "    </tr>\n",
              "    <tr>\n",
              "      <th>15</th>\n",
              "      <td>0</td>\n",
              "    </tr>\n",
              "    <tr>\n",
              "      <th>16</th>\n",
              "      <td>1</td>\n",
              "    </tr>\n",
              "    <tr>\n",
              "      <th>17</th>\n",
              "      <td>0</td>\n",
              "    </tr>\n",
              "    <tr>\n",
              "      <th>...</th>\n",
              "      <td>...</td>\n",
              "    </tr>\n",
              "    <tr>\n",
              "      <th>662</th>\n",
              "      <td>0</td>\n",
              "    </tr>\n",
              "    <tr>\n",
              "      <th>663</th>\n",
              "      <td>0</td>\n",
              "    </tr>\n",
              "    <tr>\n",
              "      <th>664</th>\n",
              "      <td>0</td>\n",
              "    </tr>\n",
              "    <tr>\n",
              "      <th>665</th>\n",
              "      <td>1</td>\n",
              "    </tr>\n",
              "    <tr>\n",
              "      <th>666</th>\n",
              "      <td>0</td>\n",
              "    </tr>\n",
              "  </tbody>\n",
              "</table>\n",
              "<p>654 rows × 1 columns</p>\n",
              "</div>"
            ],
            "text/plain": [
              "             Survived\n",
              "PassengerId          \n",
              "13                  0\n",
              "14                  0\n",
              "15                  0\n",
              "16                  1\n",
              "17                  0\n",
              "...               ...\n",
              "662                 0\n",
              "663                 0\n",
              "664                 0\n",
              "665                 1\n",
              "666                 0\n",
              "\n",
              "[654 rows x 1 columns]"
            ]
          },
          "metadata": {
            "tags": []
          },
          "execution_count": 14
        }
      ]
    },
    {
      "cell_type": "code",
      "metadata": {
        "id": "N-4KYztqxIi5",
        "colab": {
          "base_uri": "https://localhost:8080/"
        },
        "outputId": "2532aed8-ee48-4af6-a9ee-f03dbdfb89c4"
      },
      "source": [
        "# Compute the overall survival rate: what fraction of passengers survived the shipwreck?\n",
        "\n",
        "data['Survived'].sum() / data['Survived'].count()"
      ],
      "execution_count": 15,
      "outputs": [
        {
          "output_type": "execute_result",
          "data": {
            "text/plain": [
              "0.3838383838383838"
            ]
          },
          "metadata": {
            "tags": []
          },
          "execution_count": 15
        }
      ]
    },
    {
      "cell_type": "markdown",
      "metadata": {
        "id": "-kqrUzFCxIi5"
      },
      "source": [
        "---"
      ]
    },
    {
      "cell_type": "markdown",
      "metadata": {
        "id": "kEvDU0oBxIi5"
      },
      "source": [
        "Pandas also has some basic data analysis tools. For one, you can quickly display statistical aggregates for each column using `.describe()`"
      ]
    },
    {
      "cell_type": "code",
      "metadata": {
        "id": "pAK73Dj4xIi5",
        "colab": {
          "base_uri": "https://localhost:8080/",
          "height": 297
        },
        "outputId": "457813ed-22ce-4b71-a99b-76a6ab90205d"
      },
      "source": [
        "data.describe()"
      ],
      "execution_count": 16,
      "outputs": [
        {
          "output_type": "execute_result",
          "data": {
            "text/html": [
              "<div>\n",
              "<style scoped>\n",
              "    .dataframe tbody tr th:only-of-type {\n",
              "        vertical-align: middle;\n",
              "    }\n",
              "\n",
              "    .dataframe tbody tr th {\n",
              "        vertical-align: top;\n",
              "    }\n",
              "\n",
              "    .dataframe thead th {\n",
              "        text-align: right;\n",
              "    }\n",
              "</style>\n",
              "<table border=\"1\" class=\"dataframe\">\n",
              "  <thead>\n",
              "    <tr style=\"text-align: right;\">\n",
              "      <th></th>\n",
              "      <th>Survived</th>\n",
              "      <th>Pclass</th>\n",
              "      <th>Age</th>\n",
              "      <th>SibSp</th>\n",
              "      <th>Parch</th>\n",
              "      <th>Fare</th>\n",
              "    </tr>\n",
              "  </thead>\n",
              "  <tbody>\n",
              "    <tr>\n",
              "      <th>count</th>\n",
              "      <td>891.000000</td>\n",
              "      <td>891.000000</td>\n",
              "      <td>714.000000</td>\n",
              "      <td>891.000000</td>\n",
              "      <td>891.000000</td>\n",
              "      <td>891.000000</td>\n",
              "    </tr>\n",
              "    <tr>\n",
              "      <th>mean</th>\n",
              "      <td>0.383838</td>\n",
              "      <td>2.308642</td>\n",
              "      <td>29.699118</td>\n",
              "      <td>0.523008</td>\n",
              "      <td>0.381594</td>\n",
              "      <td>32.204208</td>\n",
              "    </tr>\n",
              "    <tr>\n",
              "      <th>std</th>\n",
              "      <td>0.486592</td>\n",
              "      <td>0.836071</td>\n",
              "      <td>14.526497</td>\n",
              "      <td>1.102743</td>\n",
              "      <td>0.806057</td>\n",
              "      <td>49.693429</td>\n",
              "    </tr>\n",
              "    <tr>\n",
              "      <th>min</th>\n",
              "      <td>0.000000</td>\n",
              "      <td>1.000000</td>\n",
              "      <td>0.420000</td>\n",
              "      <td>0.000000</td>\n",
              "      <td>0.000000</td>\n",
              "      <td>0.000000</td>\n",
              "    </tr>\n",
              "    <tr>\n",
              "      <th>25%</th>\n",
              "      <td>0.000000</td>\n",
              "      <td>2.000000</td>\n",
              "      <td>20.125000</td>\n",
              "      <td>0.000000</td>\n",
              "      <td>0.000000</td>\n",
              "      <td>7.910400</td>\n",
              "    </tr>\n",
              "    <tr>\n",
              "      <th>50%</th>\n",
              "      <td>0.000000</td>\n",
              "      <td>3.000000</td>\n",
              "      <td>28.000000</td>\n",
              "      <td>0.000000</td>\n",
              "      <td>0.000000</td>\n",
              "      <td>14.454200</td>\n",
              "    </tr>\n",
              "    <tr>\n",
              "      <th>75%</th>\n",
              "      <td>1.000000</td>\n",
              "      <td>3.000000</td>\n",
              "      <td>38.000000</td>\n",
              "      <td>1.000000</td>\n",
              "      <td>0.000000</td>\n",
              "      <td>31.000000</td>\n",
              "    </tr>\n",
              "    <tr>\n",
              "      <th>max</th>\n",
              "      <td>1.000000</td>\n",
              "      <td>3.000000</td>\n",
              "      <td>80.000000</td>\n",
              "      <td>8.000000</td>\n",
              "      <td>6.000000</td>\n",
              "      <td>512.329200</td>\n",
              "    </tr>\n",
              "  </tbody>\n",
              "</table>\n",
              "</div>"
            ],
            "text/plain": [
              "         Survived      Pclass         Age       SibSp       Parch        Fare\n",
              "count  891.000000  891.000000  714.000000  891.000000  891.000000  891.000000\n",
              "mean     0.383838    2.308642   29.699118    0.523008    0.381594   32.204208\n",
              "std      0.486592    0.836071   14.526497    1.102743    0.806057   49.693429\n",
              "min      0.000000    1.000000    0.420000    0.000000    0.000000    0.000000\n",
              "25%      0.000000    2.000000   20.125000    0.000000    0.000000    7.910400\n",
              "50%      0.000000    3.000000   28.000000    0.000000    0.000000   14.454200\n",
              "75%      1.000000    3.000000   38.000000    1.000000    0.000000   31.000000\n",
              "max      1.000000    3.000000   80.000000    8.000000    6.000000  512.329200"
            ]
          },
          "metadata": {
            "tags": []
          },
          "execution_count": 16
        }
      ]
    },
    {
      "cell_type": "markdown",
      "metadata": {
        "id": "bIfwufQgxIi6"
      },
      "source": [
        "Some columns contain __NaN__ values - this means that there is no data there. For example, passenger `#6` has unknown age. To simplify the future data analysis, we'll replace NaN values by using pandas `fillna` function.\n",
        "\n",
        "_Note: we do this so easily because it's a tutorial. In general, you think twice before you modify data like this._"
      ]
    },
    {
      "cell_type": "code",
      "metadata": {
        "id": "-JfB8puQxIi6",
        "colab": {
          "base_uri": "https://localhost:8080/"
        },
        "outputId": "ab46b62e-6ec7-4d55-ec2d-96c7e7dd63ef"
      },
      "source": [
        "data.loc[6]"
      ],
      "execution_count": 17,
      "outputs": [
        {
          "output_type": "execute_result",
          "data": {
            "text/plain": [
              "Survived                   0\n",
              "Pclass                     3\n",
              "Name        Moran, Mr. James\n",
              "Sex                     male\n",
              "Age                      NaN\n",
              "SibSp                      0\n",
              "Parch                      0\n",
              "Ticket                330877\n",
              "Fare                  8.4583\n",
              "Cabin                    NaN\n",
              "Embarked                   Q\n",
              "Name: 6, dtype: object"
            ]
          },
          "metadata": {
            "tags": []
          },
          "execution_count": 17
        }
      ]
    },
    {
      "cell_type": "code",
      "metadata": {
        "id": "Et3xpkDfxIi6"
      },
      "source": [
        "data['Age'] = data['Age'].fillna(value=data['Age'].mean())\n",
        "data['Fare'] = data['Fare'].fillna(value=data['Fare'].mean())"
      ],
      "execution_count": 94,
      "outputs": []
    },
    {
      "cell_type": "code",
      "metadata": {
        "id": "kDnUjUZ4xIi6",
        "colab": {
          "base_uri": "https://localhost:8080/"
        },
        "outputId": "e5a976b1-674d-41c6-baed-fc97beb53c29"
      },
      "source": [
        "data.loc[6]"
      ],
      "execution_count": 19,
      "outputs": [
        {
          "output_type": "execute_result",
          "data": {
            "text/plain": [
              "Survived                   0\n",
              "Pclass                     3\n",
              "Name        Moran, Mr. James\n",
              "Sex                     male\n",
              "Age                  29.6991\n",
              "SibSp                      0\n",
              "Parch                      0\n",
              "Ticket                330877\n",
              "Fare                  8.4583\n",
              "Cabin                    NaN\n",
              "Embarked                   Q\n",
              "Name: 6, dtype: object"
            ]
          },
          "metadata": {
            "tags": []
          },
          "execution_count": 19
        }
      ]
    },
    {
      "cell_type": "markdown",
      "metadata": {
        "id": "SXFhu_LCxIi7"
      },
      "source": [
        "More pandas: \n",
        "* A neat [tutorial](http://pandas.pydata.org/) from pydata\n",
        "* Official [tutorials](https://pandas.pydata.org/pandas-docs/stable/tutorials.html), including this [10 minutes to pandas](https://pandas.pydata.org/pandas-docs/stable/10min.html#min)\n",
        "* Bunch of cheat sheets awaits just one google query away from you (e.g. [basics](http://blog.yhat.com/static/img/datacamp-cheat.png), [combining datasets](https://pbs.twimg.com/media/C65MaMpVwAA3v0A.jpg) and so on). "
      ]
    },
    {
      "cell_type": "markdown",
      "metadata": {
        "id": "hSaL5PM4xIi7"
      },
      "source": [
        "### Part III: Numpy and vectorized computing\n",
        "\n",
        "Almost any machine learning model requires some computational heavy lifting usually involving linear algebra problems. Unfortunately, raw Python is terrible at this because each operation is interpreted at runtime. \n",
        "\n",
        "So instead, we'll use `numpy` - a library that lets you run blazing fast computation with vectors, matrices and other tensors. Again, the god object here is `numpy.ndarray`:"
      ]
    },
    {
      "cell_type": "code",
      "metadata": {
        "id": "xPmLl6AkxIi7",
        "colab": {
          "base_uri": "https://localhost:8080/"
        },
        "outputId": "f67d1da9-5edd-47f5-88c9-c6a8798e3bfc"
      },
      "source": [
        "import numpy as np\n",
        "\n",
        "a = np.array([1, 2, 3, 4, 5])\n",
        "b = np.array([5, 4, 3, 2, 1])\n",
        "\n",
        "print(\"a =\", a)\n",
        "print(\"b =\", b)\n",
        "\n",
        "# math and boolean operations can applied to each element of an array\n",
        "print(\"a + 1 =\", a + 1)\n",
        "print(\"a * 2 =\", a * 2)\n",
        "print(\"a == 2\", a == 2)\n",
        "# ... or corresponding elements of two (or more) arrays\n",
        "print(\"a + b =\", a + b)\n",
        "print(\"a * b =\", a * b)"
      ],
      "execution_count": 20,
      "outputs": [
        {
          "output_type": "stream",
          "text": [
            "a = [1 2 3 4 5]\n",
            "b = [5 4 3 2 1]\n",
            "a + 1 = [2 3 4 5 6]\n",
            "a * 2 = [ 2  4  6  8 10]\n",
            "a == 2 [False  True False False False]\n",
            "a + b = [6 6 6 6 6]\n",
            "a * b = [5 8 9 8 5]\n"
          ],
          "name": "stdout"
        }
      ]
    },
    {
      "cell_type": "code",
      "metadata": {
        "id": "uYMIICb1xIi8",
        "colab": {
          "base_uri": "https://localhost:8080/"
        },
        "outputId": "18129024-0af2-4240-8628-928029e24e95"
      },
      "source": [
        "# Your turn: compute half-products of a and b elements (i.e. ½ of the products of corresponding elements)\n",
        "print(\"a * b / 2 =\", a * b / 2)"
      ],
      "execution_count": 21,
      "outputs": [
        {
          "output_type": "stream",
          "text": [
            "a * b / 2 = [2.5 4.  4.5 4.  2.5]\n"
          ],
          "name": "stdout"
        }
      ]
    },
    {
      "cell_type": "code",
      "metadata": {
        "id": "HmKaqdP6xIi8",
        "colab": {
          "base_uri": "https://localhost:8080/"
        },
        "outputId": "e8d87309-7c57-4fde-9796-031085928002"
      },
      "source": [
        "# compute elementwise quotient between squared a and (b plus 1)\n",
        "print(\"a ** 2 / (b + 1) =\", a ** 2 / (b + 1))"
      ],
      "execution_count": 22,
      "outputs": [
        {
          "output_type": "stream",
          "text": [
            "a ** 2 / (b + 1) = [ 0.16666667  0.8         2.25        5.33333333 12.5       ]\n"
          ],
          "name": "stdout"
        }
      ]
    },
    {
      "cell_type": "markdown",
      "metadata": {
        "id": "nIb_HZuexIi9"
      },
      "source": [
        "---\n",
        "\n",
        "\n",
        "### How fast is it, Harry?\n",
        "![img](https://img.buzzfeed.com/buzzfeed-static/static/2015-11/6/7/enhanced/webdr10/enhanced-buzz-22847-1446811476-0.jpg)\n",
        "\n",
        "Let's compare computation time for Python and Numpy\n",
        "* Two arrays of $10^6$ elements\n",
        " * first one: from 0 to 1 000 000\n",
        " * second one: from 99 to 1 000 099\n",
        " \n",
        "* Computing:\n",
        " * elementwise sum\n",
        " * elementwise product\n",
        " * square root of first array\n",
        " * sum of all elements in the first array\n",
        " "
      ]
    },
    {
      "cell_type": "code",
      "metadata": {
        "id": "kkSYdvU2xIi9",
        "colab": {
          "base_uri": "https://localhost:8080/"
        },
        "outputId": "8fbbffba-4452-4013-d84c-f46c0b4f8708"
      },
      "source": [
        "%%time\n",
        "# ^-- this \"magic\" measures and prints cell computation time\n",
        "\n",
        "# Option I: pure Python\n",
        "arr_1 = range(1000000)\n",
        "arr_2 = range(99, 1000099)\n",
        "\n",
        "\n",
        "a_sum = []\n",
        "a_prod = []\n",
        "sqrt_a1 = []\n",
        "for i in range(len(arr_1)):\n",
        "    a_sum.append(arr_1[i]+arr_2[i])\n",
        "    a_prod.append(arr_1[i]*arr_2[i])\n",
        "    sqrt_a1.append(arr_1[i]**0.5)\n",
        "\n",
        "arr_1_sum = sum(arr_1)"
      ],
      "execution_count": 23,
      "outputs": [
        {
          "output_type": "stream",
          "text": [
            "CPU times: user 1.14 s, sys: 78.2 ms, total: 1.22 s\n",
            "Wall time: 1.22 s\n"
          ],
          "name": "stdout"
        }
      ]
    },
    {
      "cell_type": "code",
      "metadata": {
        "id": "q4N5DctGxIi9",
        "colab": {
          "base_uri": "https://localhost:8080/"
        },
        "outputId": "869890b0-917e-4d4b-f6e2-ccf63430806f"
      },
      "source": [
        "%%time\n",
        "\n",
        "# Option II: start from Python, convert to numpy\n",
        "arr_1 = range(1000000)\n",
        "arr_2 = range(99, 1000099)\n",
        "\n",
        "arr_1, arr_2 = np.array(arr_1), np.array(arr_2)\n",
        "\n",
        "\n",
        "a_sum = arr_1 + arr_2\n",
        "a_prod = arr_1 * arr_2\n",
        "sqrt_a1 = arr_1 ** .5\n",
        "arr_1_sum = arr_1.sum()"
      ],
      "execution_count": 24,
      "outputs": [
        {
          "output_type": "stream",
          "text": [
            "CPU times: user 413 ms, sys: 111 ms, total: 524 ms\n",
            "Wall time: 533 ms\n"
          ],
          "name": "stdout"
        }
      ]
    },
    {
      "cell_type": "code",
      "metadata": {
        "id": "DY72shoGxIi-",
        "colab": {
          "base_uri": "https://localhost:8080/"
        },
        "outputId": "11eb5c8e-2614-4105-e34a-c43d349351eb"
      },
      "source": [
        "%%time\n",
        "\n",
        "# Option III: pure numpy\n",
        "arr_1 = np.arange(1000000)\n",
        "arr_2 = np.arange(99, 1000099)\n",
        "\n",
        "a_sum = arr_1 + arr_2\n",
        "a_prod = arr_1 * arr_2\n",
        "sqrt_a1 = arr_1 ** .5\n",
        "arr_1_sum = arr_1.sum()"
      ],
      "execution_count": 25,
      "outputs": [
        {
          "output_type": "stream",
          "text": [
            "CPU times: user 80.4 ms, sys: 0 ns, total: 80.4 ms\n",
            "Wall time: 81 ms\n"
          ],
          "name": "stdout"
        }
      ]
    },
    {
      "cell_type": "markdown",
      "metadata": {
        "id": "DuYKwlzMxIi-"
      },
      "source": [
        "If you want more serious benchmarks, take a look at [this](http://brilliantlywrong.blogspot.ru/2015/01/benchmarks-of-speed-numpy-vs-all.html)."
      ]
    },
    {
      "cell_type": "markdown",
      "metadata": {
        "id": "J-GYmERxxIi-"
      },
      "source": [
        "---\n",
        "\n",
        "\n",
        "There's also a bunch of pre-implemented operations including logarithms, trigonometry, vector/matrix products and aggregations."
      ]
    },
    {
      "cell_type": "code",
      "metadata": {
        "id": "Ce2k6TOGxIi-",
        "colab": {
          "base_uri": "https://localhost:8080/"
        },
        "outputId": "c814fd82-c2b9-422e-b3f3-e972d6669f59"
      },
      "source": [
        "a = np.array([1, 2, 3, 4, 5])\n",
        "b = np.array([5, 4, 3, 2, 1])\n",
        "print(\"numpy.sum(a) =\", np.sum(a))\n",
        "print(\"numpy.mean(a) =\", np.mean(a))\n",
        "print(\"numpy.min(a) =\",  np.min(a))\n",
        "print(\"numpy.argmin(b) =\", np.argmin(b))  # index of minimal element\n",
        "# dot product. Also used for matrix/tensor multiplication\n",
        "print(\"numpy.dot(a,b) =\", np.dot(a, b))\n",
        "print(\n",
        "    \"numpy.unique(['male','male','female','female','male']) =\",\n",
        "    np.unique(['male', 'male', 'female', 'female', 'male']))"
      ],
      "execution_count": 26,
      "outputs": [
        {
          "output_type": "stream",
          "text": [
            "numpy.sum(a) = 15\n",
            "numpy.mean(a) = 3.0\n",
            "numpy.min(a) = 1\n",
            "numpy.argmin(b) = 4\n",
            "numpy.dot(a,b) = 35\n",
            "numpy.unique(['male','male','female','female','male']) = ['female' 'male']\n"
          ],
          "name": "stdout"
        }
      ]
    },
    {
      "cell_type": "markdown",
      "metadata": {
        "id": "5lBH43hExIi_"
      },
      "source": [
        "There is a lot more stuff. Check out a Numpy cheat sheet [here](https://s3.amazonaws.com/assets.datacamp.com/blog_assets/Numpy_Python_Cheat_Sheet.pdf).\n",
        "\n",
        "The important part: all this functionality works with dataframes:"
      ]
    },
    {
      "cell_type": "code",
      "metadata": {
        "id": "77whJgkYxIi_",
        "colab": {
          "base_uri": "https://localhost:8080/"
        },
        "outputId": "90a638e0-4c04-4144-a0e1-41df23a522af"
      },
      "source": [
        "print(\"Max ticket price: \", np.max(data[\"Fare\"]))\n",
        "print(\"\\nThe guy who paid the most:\\n\", data.iloc[np.argmax(data[\"Fare\"])])"
      ],
      "execution_count": 27,
      "outputs": [
        {
          "output_type": "stream",
          "text": [
            "Max ticket price:  512.3292\n",
            "\n",
            "The guy who paid the most:\n",
            " Survived                   1\n",
            "Pclass                     1\n",
            "Name        Ward, Miss. Anna\n",
            "Sex                   female\n",
            "Age                       35\n",
            "SibSp                      0\n",
            "Parch                      0\n",
            "Ticket              PC 17755\n",
            "Fare                 512.329\n",
            "Cabin                    NaN\n",
            "Embarked                   C\n",
            "Name: 259, dtype: object\n"
          ],
          "name": "stdout"
        }
      ]
    },
    {
      "cell_type": "code",
      "metadata": {
        "id": "_NNDmK6SxIi_",
        "colab": {
          "base_uri": "https://localhost:8080/"
        },
        "outputId": "3238087b-d391-4669-e814-39373e489424"
      },
      "source": [
        "# your code: compute mean passenger age and the oldest guy on the ship\n",
        "print('Mean passanger age:', np.mean(data['Age']))\n",
        "print('\\nThe oldest guy on the ship:', data['Name'].iloc[np.argmax(data.loc[data['Sex']=='male','Age'])])"
      ],
      "execution_count": 28,
      "outputs": [
        {
          "output_type": "stream",
          "text": [
            "Mean passanger age: 29.699117647058763\n",
            "\n",
            "The oldest guy on the ship: Pain, Dr. Alfred\n"
          ],
          "name": "stdout"
        }
      ]
    },
    {
      "cell_type": "code",
      "metadata": {
        "id": "93s7lOQKxIjA",
        "colab": {
          "base_uri": "https://localhost:8080/"
        },
        "outputId": "4c4be712-1b03-4d59-eb9e-ef7c2ca62726"
      },
      "source": [
        "print(\"Boolean operations\")\n",
        "\n",
        "print('a =', a)\n",
        "print('b =', b)\n",
        "print(\"a > 2\", a > 2)\n",
        "print(\"numpy.logical_not(a>2) =\", np.logical_not(a > 2))\n",
        "print(\"numpy.logical_and(a>2,b>2) =\", np.logical_and(a > 2, b > 2))\n",
        "print(\"numpy.logical_or(a>4,b<3) =\", np.logical_or(a > 2, b < 3))\n",
        "\n",
        "print()\n",
        "\n",
        "print(\"shortcuts\")\n",
        "print(\"~(a > 2) =\", ~(a > 2))  # logical_not(a > 2)\n",
        "print(\"(a > 2) & (b > 2) =\", (a > 2) & (b > 2))  # logical_and\n",
        "print(\"(a > 2) | (b < 3) =\", (a > 2) | (b < 3))  # logical_or"
      ],
      "execution_count": 29,
      "outputs": [
        {
          "output_type": "stream",
          "text": [
            "Boolean operations\n",
            "a = [1 2 3 4 5]\n",
            "b = [5 4 3 2 1]\n",
            "a > 2 [False False  True  True  True]\n",
            "numpy.logical_not(a>2) = [ True  True False False False]\n",
            "numpy.logical_and(a>2,b>2) = [False False  True False False]\n",
            "numpy.logical_or(a>4,b<3) = [False False  True  True  True]\n",
            "\n",
            "shortcuts\n",
            "~(a > 2) = [ True  True False False False]\n",
            "(a > 2) & (b > 2) = [False False  True False False]\n",
            "(a > 2) | (b < 3) = [False False  True  True  True]\n"
          ],
          "name": "stdout"
        }
      ]
    },
    {
      "cell_type": "markdown",
      "metadata": {
        "id": "_U1oASyXxIjA"
      },
      "source": [
        "The final Numpy feature we'll need is indexing: selecting elements from an array. \n",
        "Aside from Python indexes and slices (e.g. `a[1:4]`), Numpy also allows you to select several elements at once."
      ]
    },
    {
      "cell_type": "code",
      "metadata": {
        "id": "Hd6umTqXxIjA",
        "colab": {
          "base_uri": "https://localhost:8080/",
          "height": 1000
        },
        "outputId": "c279491d-a5a4-4639-9a7d-7f0c8ee5e8d4"
      },
      "source": [
        "a = np.array([0, 1, 4, 9, 16, 25])\n",
        "ix = np.array([1, 2, 5])\n",
        "print(\"a =\", a)\n",
        "print(\"Select by element index\")\n",
        "print(\"a[[1,2,5]] =\", a[ix])\n",
        "\n",
        "print(\"\\nSelect by boolean mask\")\n",
        "# select all elementts in a that are greater than 5\n",
        "print(\"a[a > 5] =\", a[a > 5])\n",
        "print(\"(a % 2 == 0) =\", a % 2 == 0)  # True for even, False for odd\n",
        "print(\"a[a % 2 == 0] =\", a[a % 2 == 0])  # select all elements in a that are even\n",
        "\n",
        "\n",
        "# select male children\n",
        "print(\"data[(data['Age'] < 18) & (data['Sex'] == 'male')] = (below)\")\n",
        "data[(data['Age'] < 18) & (data['Sex'] == 'male')]"
      ],
      "execution_count": 30,
      "outputs": [
        {
          "output_type": "stream",
          "text": [
            "a = [ 0  1  4  9 16 25]\n",
            "Select by element index\n",
            "a[[1,2,5]] = [ 1  4 25]\n",
            "\n",
            "Select by boolean mask\n",
            "a[a > 5] = [ 9 16 25]\n",
            "(a % 2 == 0) = [ True False  True False  True False]\n",
            "a[a % 2 == 0] = [ 0  4 16]\n",
            "data[(data['Age'] < 18) & (data['Sex'] == 'male')] = (below)\n"
          ],
          "name": "stdout"
        },
        {
          "output_type": "execute_result",
          "data": {
            "text/html": [
              "<div>\n",
              "<style scoped>\n",
              "    .dataframe tbody tr th:only-of-type {\n",
              "        vertical-align: middle;\n",
              "    }\n",
              "\n",
              "    .dataframe tbody tr th {\n",
              "        vertical-align: top;\n",
              "    }\n",
              "\n",
              "    .dataframe thead th {\n",
              "        text-align: right;\n",
              "    }\n",
              "</style>\n",
              "<table border=\"1\" class=\"dataframe\">\n",
              "  <thead>\n",
              "    <tr style=\"text-align: right;\">\n",
              "      <th></th>\n",
              "      <th>Survived</th>\n",
              "      <th>Pclass</th>\n",
              "      <th>Name</th>\n",
              "      <th>Sex</th>\n",
              "      <th>Age</th>\n",
              "      <th>SibSp</th>\n",
              "      <th>Parch</th>\n",
              "      <th>Ticket</th>\n",
              "      <th>Fare</th>\n",
              "      <th>Cabin</th>\n",
              "      <th>Embarked</th>\n",
              "    </tr>\n",
              "    <tr>\n",
              "      <th>PassengerId</th>\n",
              "      <th></th>\n",
              "      <th></th>\n",
              "      <th></th>\n",
              "      <th></th>\n",
              "      <th></th>\n",
              "      <th></th>\n",
              "      <th></th>\n",
              "      <th></th>\n",
              "      <th></th>\n",
              "      <th></th>\n",
              "      <th></th>\n",
              "    </tr>\n",
              "  </thead>\n",
              "  <tbody>\n",
              "    <tr>\n",
              "      <th>8</th>\n",
              "      <td>0</td>\n",
              "      <td>3</td>\n",
              "      <td>Palsson, Master. Gosta Leonard</td>\n",
              "      <td>male</td>\n",
              "      <td>2.00</td>\n",
              "      <td>3</td>\n",
              "      <td>1</td>\n",
              "      <td>349909</td>\n",
              "      <td>21.0750</td>\n",
              "      <td>NaN</td>\n",
              "      <td>S</td>\n",
              "    </tr>\n",
              "    <tr>\n",
              "      <th>17</th>\n",
              "      <td>0</td>\n",
              "      <td>3</td>\n",
              "      <td>Rice, Master. Eugene</td>\n",
              "      <td>male</td>\n",
              "      <td>2.00</td>\n",
              "      <td>4</td>\n",
              "      <td>1</td>\n",
              "      <td>382652</td>\n",
              "      <td>29.1250</td>\n",
              "      <td>NaN</td>\n",
              "      <td>Q</td>\n",
              "    </tr>\n",
              "    <tr>\n",
              "      <th>51</th>\n",
              "      <td>0</td>\n",
              "      <td>3</td>\n",
              "      <td>Panula, Master. Juha Niilo</td>\n",
              "      <td>male</td>\n",
              "      <td>7.00</td>\n",
              "      <td>4</td>\n",
              "      <td>1</td>\n",
              "      <td>3101295</td>\n",
              "      <td>39.6875</td>\n",
              "      <td>NaN</td>\n",
              "      <td>S</td>\n",
              "    </tr>\n",
              "    <tr>\n",
              "      <th>60</th>\n",
              "      <td>0</td>\n",
              "      <td>3</td>\n",
              "      <td>Goodwin, Master. William Frederick</td>\n",
              "      <td>male</td>\n",
              "      <td>11.00</td>\n",
              "      <td>5</td>\n",
              "      <td>2</td>\n",
              "      <td>CA 2144</td>\n",
              "      <td>46.9000</td>\n",
              "      <td>NaN</td>\n",
              "      <td>S</td>\n",
              "    </tr>\n",
              "    <tr>\n",
              "      <th>64</th>\n",
              "      <td>0</td>\n",
              "      <td>3</td>\n",
              "      <td>Skoog, Master. Harald</td>\n",
              "      <td>male</td>\n",
              "      <td>4.00</td>\n",
              "      <td>3</td>\n",
              "      <td>2</td>\n",
              "      <td>347088</td>\n",
              "      <td>27.9000</td>\n",
              "      <td>NaN</td>\n",
              "      <td>S</td>\n",
              "    </tr>\n",
              "    <tr>\n",
              "      <th>79</th>\n",
              "      <td>1</td>\n",
              "      <td>2</td>\n",
              "      <td>Caldwell, Master. Alden Gates</td>\n",
              "      <td>male</td>\n",
              "      <td>0.83</td>\n",
              "      <td>0</td>\n",
              "      <td>2</td>\n",
              "      <td>248738</td>\n",
              "      <td>29.0000</td>\n",
              "      <td>NaN</td>\n",
              "      <td>S</td>\n",
              "    </tr>\n",
              "    <tr>\n",
              "      <th>87</th>\n",
              "      <td>0</td>\n",
              "      <td>3</td>\n",
              "      <td>Ford, Mr. William Neal</td>\n",
              "      <td>male</td>\n",
              "      <td>16.00</td>\n",
              "      <td>1</td>\n",
              "      <td>3</td>\n",
              "      <td>W./C. 6608</td>\n",
              "      <td>34.3750</td>\n",
              "      <td>NaN</td>\n",
              "      <td>S</td>\n",
              "    </tr>\n",
              "    <tr>\n",
              "      <th>126</th>\n",
              "      <td>1</td>\n",
              "      <td>3</td>\n",
              "      <td>Nicola-Yarred, Master. Elias</td>\n",
              "      <td>male</td>\n",
              "      <td>12.00</td>\n",
              "      <td>1</td>\n",
              "      <td>0</td>\n",
              "      <td>2651</td>\n",
              "      <td>11.2417</td>\n",
              "      <td>NaN</td>\n",
              "      <td>C</td>\n",
              "    </tr>\n",
              "    <tr>\n",
              "      <th>139</th>\n",
              "      <td>0</td>\n",
              "      <td>3</td>\n",
              "      <td>Osen, Mr. Olaf Elon</td>\n",
              "      <td>male</td>\n",
              "      <td>16.00</td>\n",
              "      <td>0</td>\n",
              "      <td>0</td>\n",
              "      <td>7534</td>\n",
              "      <td>9.2167</td>\n",
              "      <td>NaN</td>\n",
              "      <td>S</td>\n",
              "    </tr>\n",
              "    <tr>\n",
              "      <th>164</th>\n",
              "      <td>0</td>\n",
              "      <td>3</td>\n",
              "      <td>Calic, Mr. Jovo</td>\n",
              "      <td>male</td>\n",
              "      <td>17.00</td>\n",
              "      <td>0</td>\n",
              "      <td>0</td>\n",
              "      <td>315093</td>\n",
              "      <td>8.6625</td>\n",
              "      <td>NaN</td>\n",
              "      <td>S</td>\n",
              "    </tr>\n",
              "    <tr>\n",
              "      <th>165</th>\n",
              "      <td>0</td>\n",
              "      <td>3</td>\n",
              "      <td>Panula, Master. Eino Viljami</td>\n",
              "      <td>male</td>\n",
              "      <td>1.00</td>\n",
              "      <td>4</td>\n",
              "      <td>1</td>\n",
              "      <td>3101295</td>\n",
              "      <td>39.6875</td>\n",
              "      <td>NaN</td>\n",
              "      <td>S</td>\n",
              "    </tr>\n",
              "    <tr>\n",
              "      <th>166</th>\n",
              "      <td>1</td>\n",
              "      <td>3</td>\n",
              "      <td>Goldsmith, Master. Frank John William \"Frankie\"</td>\n",
              "      <td>male</td>\n",
              "      <td>9.00</td>\n",
              "      <td>0</td>\n",
              "      <td>2</td>\n",
              "      <td>363291</td>\n",
              "      <td>20.5250</td>\n",
              "      <td>NaN</td>\n",
              "      <td>S</td>\n",
              "    </tr>\n",
              "    <tr>\n",
              "      <th>172</th>\n",
              "      <td>0</td>\n",
              "      <td>3</td>\n",
              "      <td>Rice, Master. Arthur</td>\n",
              "      <td>male</td>\n",
              "      <td>4.00</td>\n",
              "      <td>4</td>\n",
              "      <td>1</td>\n",
              "      <td>382652</td>\n",
              "      <td>29.1250</td>\n",
              "      <td>NaN</td>\n",
              "      <td>Q</td>\n",
              "    </tr>\n",
              "    <tr>\n",
              "      <th>183</th>\n",
              "      <td>0</td>\n",
              "      <td>3</td>\n",
              "      <td>Asplund, Master. Clarence Gustaf Hugo</td>\n",
              "      <td>male</td>\n",
              "      <td>9.00</td>\n",
              "      <td>4</td>\n",
              "      <td>2</td>\n",
              "      <td>347077</td>\n",
              "      <td>31.3875</td>\n",
              "      <td>NaN</td>\n",
              "      <td>S</td>\n",
              "    </tr>\n",
              "    <tr>\n",
              "      <th>184</th>\n",
              "      <td>1</td>\n",
              "      <td>2</td>\n",
              "      <td>Becker, Master. Richard F</td>\n",
              "      <td>male</td>\n",
              "      <td>1.00</td>\n",
              "      <td>2</td>\n",
              "      <td>1</td>\n",
              "      <td>230136</td>\n",
              "      <td>39.0000</td>\n",
              "      <td>F4</td>\n",
              "      <td>S</td>\n",
              "    </tr>\n",
              "    <tr>\n",
              "      <th>194</th>\n",
              "      <td>1</td>\n",
              "      <td>2</td>\n",
              "      <td>Navratil, Master. Michel M</td>\n",
              "      <td>male</td>\n",
              "      <td>3.00</td>\n",
              "      <td>1</td>\n",
              "      <td>1</td>\n",
              "      <td>230080</td>\n",
              "      <td>26.0000</td>\n",
              "      <td>F2</td>\n",
              "      <td>S</td>\n",
              "    </tr>\n",
              "    <tr>\n",
              "      <th>221</th>\n",
              "      <td>1</td>\n",
              "      <td>3</td>\n",
              "      <td>Sunderland, Mr. Victor Francis</td>\n",
              "      <td>male</td>\n",
              "      <td>16.00</td>\n",
              "      <td>0</td>\n",
              "      <td>0</td>\n",
              "      <td>SOTON/OQ 392089</td>\n",
              "      <td>8.0500</td>\n",
              "      <td>NaN</td>\n",
              "      <td>S</td>\n",
              "    </tr>\n",
              "    <tr>\n",
              "      <th>262</th>\n",
              "      <td>1</td>\n",
              "      <td>3</td>\n",
              "      <td>Asplund, Master. Edvin Rojj Felix</td>\n",
              "      <td>male</td>\n",
              "      <td>3.00</td>\n",
              "      <td>4</td>\n",
              "      <td>2</td>\n",
              "      <td>347077</td>\n",
              "      <td>31.3875</td>\n",
              "      <td>NaN</td>\n",
              "      <td>S</td>\n",
              "    </tr>\n",
              "    <tr>\n",
              "      <th>267</th>\n",
              "      <td>0</td>\n",
              "      <td>3</td>\n",
              "      <td>Panula, Mr. Ernesti Arvid</td>\n",
              "      <td>male</td>\n",
              "      <td>16.00</td>\n",
              "      <td>4</td>\n",
              "      <td>1</td>\n",
              "      <td>3101295</td>\n",
              "      <td>39.6875</td>\n",
              "      <td>NaN</td>\n",
              "      <td>S</td>\n",
              "    </tr>\n",
              "    <tr>\n",
              "      <th>279</th>\n",
              "      <td>0</td>\n",
              "      <td>3</td>\n",
              "      <td>Rice, Master. Eric</td>\n",
              "      <td>male</td>\n",
              "      <td>7.00</td>\n",
              "      <td>4</td>\n",
              "      <td>1</td>\n",
              "      <td>382652</td>\n",
              "      <td>29.1250</td>\n",
              "      <td>NaN</td>\n",
              "      <td>Q</td>\n",
              "    </tr>\n",
              "    <tr>\n",
              "      <th>283</th>\n",
              "      <td>0</td>\n",
              "      <td>3</td>\n",
              "      <td>de Pelsmaeker, Mr. Alfons</td>\n",
              "      <td>male</td>\n",
              "      <td>16.00</td>\n",
              "      <td>0</td>\n",
              "      <td>0</td>\n",
              "      <td>345778</td>\n",
              "      <td>9.5000</td>\n",
              "      <td>NaN</td>\n",
              "      <td>S</td>\n",
              "    </tr>\n",
              "    <tr>\n",
              "      <th>306</th>\n",
              "      <td>1</td>\n",
              "      <td>1</td>\n",
              "      <td>Allison, Master. Hudson Trevor</td>\n",
              "      <td>male</td>\n",
              "      <td>0.92</td>\n",
              "      <td>1</td>\n",
              "      <td>2</td>\n",
              "      <td>113781</td>\n",
              "      <td>151.5500</td>\n",
              "      <td>C22 C26</td>\n",
              "      <td>S</td>\n",
              "    </tr>\n",
              "    <tr>\n",
              "      <th>334</th>\n",
              "      <td>0</td>\n",
              "      <td>3</td>\n",
              "      <td>Vander Planke, Mr. Leo Edmondus</td>\n",
              "      <td>male</td>\n",
              "      <td>16.00</td>\n",
              "      <td>2</td>\n",
              "      <td>0</td>\n",
              "      <td>345764</td>\n",
              "      <td>18.0000</td>\n",
              "      <td>NaN</td>\n",
              "      <td>S</td>\n",
              "    </tr>\n",
              "    <tr>\n",
              "      <th>341</th>\n",
              "      <td>1</td>\n",
              "      <td>2</td>\n",
              "      <td>Navratil, Master. Edmond Roger</td>\n",
              "      <td>male</td>\n",
              "      <td>2.00</td>\n",
              "      <td>1</td>\n",
              "      <td>1</td>\n",
              "      <td>230080</td>\n",
              "      <td>26.0000</td>\n",
              "      <td>F2</td>\n",
              "      <td>S</td>\n",
              "    </tr>\n",
              "    <tr>\n",
              "      <th>349</th>\n",
              "      <td>1</td>\n",
              "      <td>3</td>\n",
              "      <td>Coutts, Master. William Loch \"William\"</td>\n",
              "      <td>male</td>\n",
              "      <td>3.00</td>\n",
              "      <td>1</td>\n",
              "      <td>1</td>\n",
              "      <td>C.A. 37671</td>\n",
              "      <td>15.9000</td>\n",
              "      <td>NaN</td>\n",
              "      <td>S</td>\n",
              "    </tr>\n",
              "    <tr>\n",
              "      <th>353</th>\n",
              "      <td>0</td>\n",
              "      <td>3</td>\n",
              "      <td>Elias, Mr. Tannous</td>\n",
              "      <td>male</td>\n",
              "      <td>15.00</td>\n",
              "      <td>1</td>\n",
              "      <td>1</td>\n",
              "      <td>2695</td>\n",
              "      <td>7.2292</td>\n",
              "      <td>NaN</td>\n",
              "      <td>C</td>\n",
              "    </tr>\n",
              "    <tr>\n",
              "      <th>387</th>\n",
              "      <td>0</td>\n",
              "      <td>3</td>\n",
              "      <td>Goodwin, Master. Sidney Leonard</td>\n",
              "      <td>male</td>\n",
              "      <td>1.00</td>\n",
              "      <td>5</td>\n",
              "      <td>2</td>\n",
              "      <td>CA 2144</td>\n",
              "      <td>46.9000</td>\n",
              "      <td>NaN</td>\n",
              "      <td>S</td>\n",
              "    </tr>\n",
              "    <tr>\n",
              "      <th>408</th>\n",
              "      <td>1</td>\n",
              "      <td>2</td>\n",
              "      <td>Richards, Master. William Rowe</td>\n",
              "      <td>male</td>\n",
              "      <td>3.00</td>\n",
              "      <td>1</td>\n",
              "      <td>1</td>\n",
              "      <td>29106</td>\n",
              "      <td>18.7500</td>\n",
              "      <td>NaN</td>\n",
              "      <td>S</td>\n",
              "    </tr>\n",
              "    <tr>\n",
              "      <th>434</th>\n",
              "      <td>0</td>\n",
              "      <td>3</td>\n",
              "      <td>Kallio, Mr. Nikolai Erland</td>\n",
              "      <td>male</td>\n",
              "      <td>17.00</td>\n",
              "      <td>0</td>\n",
              "      <td>0</td>\n",
              "      <td>STON/O 2. 3101274</td>\n",
              "      <td>7.1250</td>\n",
              "      <td>NaN</td>\n",
              "      <td>S</td>\n",
              "    </tr>\n",
              "    <tr>\n",
              "      <th>446</th>\n",
              "      <td>1</td>\n",
              "      <td>1</td>\n",
              "      <td>Dodge, Master. Washington</td>\n",
              "      <td>male</td>\n",
              "      <td>4.00</td>\n",
              "      <td>0</td>\n",
              "      <td>2</td>\n",
              "      <td>33638</td>\n",
              "      <td>81.8583</td>\n",
              "      <td>A34</td>\n",
              "      <td>S</td>\n",
              "    </tr>\n",
              "    <tr>\n",
              "      <th>481</th>\n",
              "      <td>0</td>\n",
              "      <td>3</td>\n",
              "      <td>Goodwin, Master. Harold Victor</td>\n",
              "      <td>male</td>\n",
              "      <td>9.00</td>\n",
              "      <td>5</td>\n",
              "      <td>2</td>\n",
              "      <td>CA 2144</td>\n",
              "      <td>46.9000</td>\n",
              "      <td>NaN</td>\n",
              "      <td>S</td>\n",
              "    </tr>\n",
              "    <tr>\n",
              "      <th>490</th>\n",
              "      <td>1</td>\n",
              "      <td>3</td>\n",
              "      <td>Coutts, Master. Eden Leslie \"Neville\"</td>\n",
              "      <td>male</td>\n",
              "      <td>9.00</td>\n",
              "      <td>1</td>\n",
              "      <td>1</td>\n",
              "      <td>C.A. 37671</td>\n",
              "      <td>15.9000</td>\n",
              "      <td>NaN</td>\n",
              "      <td>S</td>\n",
              "    </tr>\n",
              "    <tr>\n",
              "      <th>501</th>\n",
              "      <td>0</td>\n",
              "      <td>3</td>\n",
              "      <td>Calic, Mr. Petar</td>\n",
              "      <td>male</td>\n",
              "      <td>17.00</td>\n",
              "      <td>0</td>\n",
              "      <td>0</td>\n",
              "      <td>315086</td>\n",
              "      <td>8.6625</td>\n",
              "      <td>NaN</td>\n",
              "      <td>S</td>\n",
              "    </tr>\n",
              "    <tr>\n",
              "      <th>533</th>\n",
              "      <td>0</td>\n",
              "      <td>3</td>\n",
              "      <td>Elias, Mr. Joseph Jr</td>\n",
              "      <td>male</td>\n",
              "      <td>17.00</td>\n",
              "      <td>1</td>\n",
              "      <td>1</td>\n",
              "      <td>2690</td>\n",
              "      <td>7.2292</td>\n",
              "      <td>NaN</td>\n",
              "      <td>C</td>\n",
              "    </tr>\n",
              "    <tr>\n",
              "      <th>550</th>\n",
              "      <td>1</td>\n",
              "      <td>2</td>\n",
              "      <td>Davies, Master. John Morgan Jr</td>\n",
              "      <td>male</td>\n",
              "      <td>8.00</td>\n",
              "      <td>1</td>\n",
              "      <td>1</td>\n",
              "      <td>C.A. 33112</td>\n",
              "      <td>36.7500</td>\n",
              "      <td>NaN</td>\n",
              "      <td>S</td>\n",
              "    </tr>\n",
              "    <tr>\n",
              "      <th>551</th>\n",
              "      <td>1</td>\n",
              "      <td>1</td>\n",
              "      <td>Thayer, Mr. John Borland Jr</td>\n",
              "      <td>male</td>\n",
              "      <td>17.00</td>\n",
              "      <td>0</td>\n",
              "      <td>2</td>\n",
              "      <td>17421</td>\n",
              "      <td>110.8833</td>\n",
              "      <td>C70</td>\n",
              "      <td>C</td>\n",
              "    </tr>\n",
              "    <tr>\n",
              "      <th>575</th>\n",
              "      <td>0</td>\n",
              "      <td>3</td>\n",
              "      <td>Rush, Mr. Alfred George John</td>\n",
              "      <td>male</td>\n",
              "      <td>16.00</td>\n",
              "      <td>0</td>\n",
              "      <td>0</td>\n",
              "      <td>A/4. 20589</td>\n",
              "      <td>8.0500</td>\n",
              "      <td>NaN</td>\n",
              "      <td>S</td>\n",
              "    </tr>\n",
              "    <tr>\n",
              "      <th>684</th>\n",
              "      <td>0</td>\n",
              "      <td>3</td>\n",
              "      <td>Goodwin, Mr. Charles Edward</td>\n",
              "      <td>male</td>\n",
              "      <td>14.00</td>\n",
              "      <td>5</td>\n",
              "      <td>2</td>\n",
              "      <td>CA 2144</td>\n",
              "      <td>46.9000</td>\n",
              "      <td>NaN</td>\n",
              "      <td>S</td>\n",
              "    </tr>\n",
              "    <tr>\n",
              "      <th>687</th>\n",
              "      <td>0</td>\n",
              "      <td>3</td>\n",
              "      <td>Panula, Mr. Jaako Arnold</td>\n",
              "      <td>male</td>\n",
              "      <td>14.00</td>\n",
              "      <td>4</td>\n",
              "      <td>1</td>\n",
              "      <td>3101295</td>\n",
              "      <td>39.6875</td>\n",
              "      <td>NaN</td>\n",
              "      <td>S</td>\n",
              "    </tr>\n",
              "    <tr>\n",
              "      <th>722</th>\n",
              "      <td>0</td>\n",
              "      <td>3</td>\n",
              "      <td>Jensen, Mr. Svend Lauritz</td>\n",
              "      <td>male</td>\n",
              "      <td>17.00</td>\n",
              "      <td>1</td>\n",
              "      <td>0</td>\n",
              "      <td>350048</td>\n",
              "      <td>7.0542</td>\n",
              "      <td>NaN</td>\n",
              "      <td>S</td>\n",
              "    </tr>\n",
              "    <tr>\n",
              "      <th>732</th>\n",
              "      <td>0</td>\n",
              "      <td>3</td>\n",
              "      <td>Hassan, Mr. Houssein G N</td>\n",
              "      <td>male</td>\n",
              "      <td>11.00</td>\n",
              "      <td>0</td>\n",
              "      <td>0</td>\n",
              "      <td>2699</td>\n",
              "      <td>18.7875</td>\n",
              "      <td>NaN</td>\n",
              "      <td>C</td>\n",
              "    </tr>\n",
              "    <tr>\n",
              "      <th>747</th>\n",
              "      <td>0</td>\n",
              "      <td>3</td>\n",
              "      <td>Abbott, Mr. Rossmore Edward</td>\n",
              "      <td>male</td>\n",
              "      <td>16.00</td>\n",
              "      <td>1</td>\n",
              "      <td>1</td>\n",
              "      <td>C.A. 2673</td>\n",
              "      <td>20.2500</td>\n",
              "      <td>NaN</td>\n",
              "      <td>S</td>\n",
              "    </tr>\n",
              "    <tr>\n",
              "      <th>752</th>\n",
              "      <td>1</td>\n",
              "      <td>3</td>\n",
              "      <td>Moor, Master. Meier</td>\n",
              "      <td>male</td>\n",
              "      <td>6.00</td>\n",
              "      <td>0</td>\n",
              "      <td>1</td>\n",
              "      <td>392096</td>\n",
              "      <td>12.4750</td>\n",
              "      <td>E121</td>\n",
              "      <td>S</td>\n",
              "    </tr>\n",
              "    <tr>\n",
              "      <th>756</th>\n",
              "      <td>1</td>\n",
              "      <td>2</td>\n",
              "      <td>Hamalainen, Master. Viljo</td>\n",
              "      <td>male</td>\n",
              "      <td>0.67</td>\n",
              "      <td>1</td>\n",
              "      <td>1</td>\n",
              "      <td>250649</td>\n",
              "      <td>14.5000</td>\n",
              "      <td>NaN</td>\n",
              "      <td>S</td>\n",
              "    </tr>\n",
              "    <tr>\n",
              "      <th>765</th>\n",
              "      <td>0</td>\n",
              "      <td>3</td>\n",
              "      <td>Eklund, Mr. Hans Linus</td>\n",
              "      <td>male</td>\n",
              "      <td>16.00</td>\n",
              "      <td>0</td>\n",
              "      <td>0</td>\n",
              "      <td>347074</td>\n",
              "      <td>7.7750</td>\n",
              "      <td>NaN</td>\n",
              "      <td>S</td>\n",
              "    </tr>\n",
              "    <tr>\n",
              "      <th>788</th>\n",
              "      <td>0</td>\n",
              "      <td>3</td>\n",
              "      <td>Rice, Master. George Hugh</td>\n",
              "      <td>male</td>\n",
              "      <td>8.00</td>\n",
              "      <td>4</td>\n",
              "      <td>1</td>\n",
              "      <td>382652</td>\n",
              "      <td>29.1250</td>\n",
              "      <td>NaN</td>\n",
              "      <td>Q</td>\n",
              "    </tr>\n",
              "    <tr>\n",
              "      <th>789</th>\n",
              "      <td>1</td>\n",
              "      <td>3</td>\n",
              "      <td>Dean, Master. Bertram Vere</td>\n",
              "      <td>male</td>\n",
              "      <td>1.00</td>\n",
              "      <td>1</td>\n",
              "      <td>2</td>\n",
              "      <td>C.A. 2315</td>\n",
              "      <td>20.5750</td>\n",
              "      <td>NaN</td>\n",
              "      <td>S</td>\n",
              "    </tr>\n",
              "    <tr>\n",
              "      <th>792</th>\n",
              "      <td>0</td>\n",
              "      <td>2</td>\n",
              "      <td>Gaskell, Mr. Alfred</td>\n",
              "      <td>male</td>\n",
              "      <td>16.00</td>\n",
              "      <td>0</td>\n",
              "      <td>0</td>\n",
              "      <td>239865</td>\n",
              "      <td>26.0000</td>\n",
              "      <td>NaN</td>\n",
              "      <td>S</td>\n",
              "    </tr>\n",
              "    <tr>\n",
              "      <th>803</th>\n",
              "      <td>1</td>\n",
              "      <td>1</td>\n",
              "      <td>Carter, Master. William Thornton II</td>\n",
              "      <td>male</td>\n",
              "      <td>11.00</td>\n",
              "      <td>1</td>\n",
              "      <td>2</td>\n",
              "      <td>113760</td>\n",
              "      <td>120.0000</td>\n",
              "      <td>B96 B98</td>\n",
              "      <td>S</td>\n",
              "    </tr>\n",
              "    <tr>\n",
              "      <th>804</th>\n",
              "      <td>1</td>\n",
              "      <td>3</td>\n",
              "      <td>Thomas, Master. Assad Alexander</td>\n",
              "      <td>male</td>\n",
              "      <td>0.42</td>\n",
              "      <td>0</td>\n",
              "      <td>1</td>\n",
              "      <td>2625</td>\n",
              "      <td>8.5167</td>\n",
              "      <td>NaN</td>\n",
              "      <td>C</td>\n",
              "    </tr>\n",
              "    <tr>\n",
              "      <th>820</th>\n",
              "      <td>0</td>\n",
              "      <td>3</td>\n",
              "      <td>Skoog, Master. Karl Thorsten</td>\n",
              "      <td>male</td>\n",
              "      <td>10.00</td>\n",
              "      <td>3</td>\n",
              "      <td>2</td>\n",
              "      <td>347088</td>\n",
              "      <td>27.9000</td>\n",
              "      <td>NaN</td>\n",
              "      <td>S</td>\n",
              "    </tr>\n",
              "    <tr>\n",
              "      <th>825</th>\n",
              "      <td>0</td>\n",
              "      <td>3</td>\n",
              "      <td>Panula, Master. Urho Abraham</td>\n",
              "      <td>male</td>\n",
              "      <td>2.00</td>\n",
              "      <td>4</td>\n",
              "      <td>1</td>\n",
              "      <td>3101295</td>\n",
              "      <td>39.6875</td>\n",
              "      <td>NaN</td>\n",
              "      <td>S</td>\n",
              "    </tr>\n",
              "    <tr>\n",
              "      <th>828</th>\n",
              "      <td>1</td>\n",
              "      <td>2</td>\n",
              "      <td>Mallet, Master. Andre</td>\n",
              "      <td>male</td>\n",
              "      <td>1.00</td>\n",
              "      <td>0</td>\n",
              "      <td>2</td>\n",
              "      <td>S.C./PARIS 2079</td>\n",
              "      <td>37.0042</td>\n",
              "      <td>NaN</td>\n",
              "      <td>C</td>\n",
              "    </tr>\n",
              "    <tr>\n",
              "      <th>832</th>\n",
              "      <td>1</td>\n",
              "      <td>2</td>\n",
              "      <td>Richards, Master. George Sibley</td>\n",
              "      <td>male</td>\n",
              "      <td>0.83</td>\n",
              "      <td>1</td>\n",
              "      <td>1</td>\n",
              "      <td>29106</td>\n",
              "      <td>18.7500</td>\n",
              "      <td>NaN</td>\n",
              "      <td>S</td>\n",
              "    </tr>\n",
              "    <tr>\n",
              "      <th>842</th>\n",
              "      <td>0</td>\n",
              "      <td>2</td>\n",
              "      <td>Mudd, Mr. Thomas Charles</td>\n",
              "      <td>male</td>\n",
              "      <td>16.00</td>\n",
              "      <td>0</td>\n",
              "      <td>0</td>\n",
              "      <td>S.O./P.P. 3</td>\n",
              "      <td>10.5000</td>\n",
              "      <td>NaN</td>\n",
              "      <td>S</td>\n",
              "    </tr>\n",
              "    <tr>\n",
              "      <th>845</th>\n",
              "      <td>0</td>\n",
              "      <td>3</td>\n",
              "      <td>Culumovic, Mr. Jeso</td>\n",
              "      <td>male</td>\n",
              "      <td>17.00</td>\n",
              "      <td>0</td>\n",
              "      <td>0</td>\n",
              "      <td>315090</td>\n",
              "      <td>8.6625</td>\n",
              "      <td>NaN</td>\n",
              "      <td>S</td>\n",
              "    </tr>\n",
              "    <tr>\n",
              "      <th>851</th>\n",
              "      <td>0</td>\n",
              "      <td>3</td>\n",
              "      <td>Andersson, Master. Sigvard Harald Elias</td>\n",
              "      <td>male</td>\n",
              "      <td>4.00</td>\n",
              "      <td>4</td>\n",
              "      <td>2</td>\n",
              "      <td>347082</td>\n",
              "      <td>31.2750</td>\n",
              "      <td>NaN</td>\n",
              "      <td>S</td>\n",
              "    </tr>\n",
              "    <tr>\n",
              "      <th>870</th>\n",
              "      <td>1</td>\n",
              "      <td>3</td>\n",
              "      <td>Johnson, Master. Harold Theodor</td>\n",
              "      <td>male</td>\n",
              "      <td>4.00</td>\n",
              "      <td>1</td>\n",
              "      <td>1</td>\n",
              "      <td>347742</td>\n",
              "      <td>11.1333</td>\n",
              "      <td>NaN</td>\n",
              "      <td>S</td>\n",
              "    </tr>\n",
              "  </tbody>\n",
              "</table>\n",
              "</div>"
            ],
            "text/plain": [
              "             Survived  Pclass  ...    Cabin Embarked\n",
              "PassengerId                    ...                  \n",
              "8                   0       3  ...      NaN        S\n",
              "17                  0       3  ...      NaN        Q\n",
              "51                  0       3  ...      NaN        S\n",
              "60                  0       3  ...      NaN        S\n",
              "64                  0       3  ...      NaN        S\n",
              "79                  1       2  ...      NaN        S\n",
              "87                  0       3  ...      NaN        S\n",
              "126                 1       3  ...      NaN        C\n",
              "139                 0       3  ...      NaN        S\n",
              "164                 0       3  ...      NaN        S\n",
              "165                 0       3  ...      NaN        S\n",
              "166                 1       3  ...      NaN        S\n",
              "172                 0       3  ...      NaN        Q\n",
              "183                 0       3  ...      NaN        S\n",
              "184                 1       2  ...       F4        S\n",
              "194                 1       2  ...       F2        S\n",
              "221                 1       3  ...      NaN        S\n",
              "262                 1       3  ...      NaN        S\n",
              "267                 0       3  ...      NaN        S\n",
              "279                 0       3  ...      NaN        Q\n",
              "283                 0       3  ...      NaN        S\n",
              "306                 1       1  ...  C22 C26        S\n",
              "334                 0       3  ...      NaN        S\n",
              "341                 1       2  ...       F2        S\n",
              "349                 1       3  ...      NaN        S\n",
              "353                 0       3  ...      NaN        C\n",
              "387                 0       3  ...      NaN        S\n",
              "408                 1       2  ...      NaN        S\n",
              "434                 0       3  ...      NaN        S\n",
              "446                 1       1  ...      A34        S\n",
              "481                 0       3  ...      NaN        S\n",
              "490                 1       3  ...      NaN        S\n",
              "501                 0       3  ...      NaN        S\n",
              "533                 0       3  ...      NaN        C\n",
              "550                 1       2  ...      NaN        S\n",
              "551                 1       1  ...      C70        C\n",
              "575                 0       3  ...      NaN        S\n",
              "684                 0       3  ...      NaN        S\n",
              "687                 0       3  ...      NaN        S\n",
              "722                 0       3  ...      NaN        S\n",
              "732                 0       3  ...      NaN        C\n",
              "747                 0       3  ...      NaN        S\n",
              "752                 1       3  ...     E121        S\n",
              "756                 1       2  ...      NaN        S\n",
              "765                 0       3  ...      NaN        S\n",
              "788                 0       3  ...      NaN        Q\n",
              "789                 1       3  ...      NaN        S\n",
              "792                 0       2  ...      NaN        S\n",
              "803                 1       1  ...  B96 B98        S\n",
              "804                 1       3  ...      NaN        C\n",
              "820                 0       3  ...      NaN        S\n",
              "825                 0       3  ...      NaN        S\n",
              "828                 1       2  ...      NaN        C\n",
              "832                 1       2  ...      NaN        S\n",
              "842                 0       2  ...      NaN        S\n",
              "845                 0       3  ...      NaN        S\n",
              "851                 0       3  ...      NaN        S\n",
              "870                 1       3  ...      NaN        S\n",
              "\n",
              "[58 rows x 11 columns]"
            ]
          },
          "metadata": {
            "tags": []
          },
          "execution_count": 30
        }
      ]
    },
    {
      "cell_type": "markdown",
      "metadata": {
        "id": "Fsg8R9nwxIjB"
      },
      "source": [
        "### Your turn\n",
        "\n",
        "Use numpy and pandas to answer a few questions about data"
      ]
    },
    {
      "cell_type": "code",
      "metadata": {
        "id": "snudlg42xIjL",
        "colab": {
          "base_uri": "https://localhost:8080/"
        },
        "outputId": "ede26624-cb0b-47d6-ba04-46ae7b78beda"
      },
      "source": [
        "# who on average paid more for their ticket, men or women?\n",
        "\n",
        "mean_fare_men = data[data['Sex']=='male']['Fare'].mean()\n",
        "mean_fare_women = data.loc[data['Sex']=='female', 'Fare'].mean()\n",
        "\n",
        "print(mean_fare_men, mean_fare_women)"
      ],
      "execution_count": 31,
      "outputs": [
        {
          "output_type": "stream",
          "text": [
            "25.523893414211418 44.47981783439487\n"
          ],
          "name": "stdout"
        }
      ]
    },
    {
      "cell_type": "code",
      "metadata": {
        "id": "X_Ulc7j6xIjL",
        "colab": {
          "base_uri": "https://localhost:8080/"
        },
        "outputId": "60f35443-3c54-4094-e432-3d1610686af3"
      },
      "source": [
        "# who is more likely to survive: a child (<18 yo) or an adult?\n",
        "\n",
        "child_survival_rate = data[data['Age']<18]['Survived'].mean()\n",
        "adult_survival_rate = data.loc[data['Age']>=18, 'Survived'].mean()\n",
        "\n",
        "print(child_survival_rate, adult_survival_rate)"
      ],
      "execution_count": 32,
      "outputs": [
        {
          "output_type": "stream",
          "text": [
            "0.5398230088495575 0.36118251928020567\n"
          ],
          "name": "stdout"
        }
      ]
    },
    {
      "cell_type": "markdown",
      "metadata": {
        "id": "8cJ4W-FdxIjL"
      },
      "source": [
        "# Part IV: plots and matplotlib\n",
        "\n",
        "Using Python to visualize the data is covered by yet another library: matplotlib.\n",
        "\n",
        "Just like Python itself, matplotlib has an awesome tendency of keeping simple things simple while still allowing you to write complicated stuff with convenience (e.g. super-detailed plots or custom animations)."
      ]
    },
    {
      "cell_type": "code",
      "metadata": {
        "id": "umhBx6R1xIjM",
        "colab": {
          "base_uri": "https://localhost:8080/",
          "height": 282
        },
        "outputId": "b12d93f1-bffe-4103-8202-b5130e4730cb"
      },
      "source": [
        "import matplotlib.pyplot as plt\n",
        "%matplotlib inline\n",
        "# ^-- this \"magic\" tells all future matplotlib plots to be drawn inside notebook and not in a separate window.\n",
        "\n",
        "# line plot\n",
        "plt.plot([0, 1, 2, 3, 4, 5], [0, 1, 4, 9, 16, 25])"
      ],
      "execution_count": 33,
      "outputs": [
        {
          "output_type": "execute_result",
          "data": {
            "text/plain": [
              "[<matplotlib.lines.Line2D at 0x7fd57bece910>]"
            ]
          },
          "metadata": {
            "tags": []
          },
          "execution_count": 33
        },
        {
          "output_type": "display_data",
          "data": {
            "image/png": "[encoded data removed]",
            "text/plain": [
              "<Figure size 432x288 with 1 Axes>"
            ]
          },
          "metadata": {
            "tags": [],
            "needs_background": "light"
          }
        }
      ]
    },
    {
      "cell_type": "code",
      "metadata": {
        "id": "Ek2oYs6gxIjN",
        "colab": {
          "base_uri": "https://localhost:8080/",
          "height": 265
        },
        "outputId": "4eeaf7e2-6048-4fed-9972-446c8561cd92"
      },
      "source": [
        "# scatter-plot\n",
        "plt.scatter([0, 1, 2, 3, 4, 5], [0, 1, 4, 9, 16, 25])\n",
        "\n",
        "plt.show()  # show the first plot and begin drawing next one"
      ],
      "execution_count": 34,
      "outputs": [
        {
          "output_type": "display_data",
          "data": {
            "image/png": "[encoded data removed]",
            "text/plain": [
              "<Figure size 432x288 with 1 Axes>"
            ]
          },
          "metadata": {
            "tags": [],
            "needs_background": "light"
          }
        }
      ]
    },
    {
      "cell_type": "code",
      "metadata": {
        "id": "G0ZRBAP3xIjN",
        "colab": {
          "base_uri": "https://localhost:8080/",
          "height": 312
        },
        "outputId": "380d1eb5-79b1-4d0d-eba7-321de1f52ce4"
      },
      "source": [
        "# draw a scatter plot with custom markers and colors\n",
        "plt.scatter([1, 1, 2, 3, 4, 4.5], [3, 2, 2, 5, 15, 24],\n",
        "            c=[\"red\", \"blue\", \"orange\", \"green\", \"cyan\", \"gray\"], marker=\"x\")\n",
        "\n",
        "# without .show(), several plots will be drawn on top of one another\n",
        "plt.plot([0, 1, 2, 3, 4, 5], [0, 1, 4, 9, 16, 25], c=\"black\")\n",
        "\n",
        "# adding more sugar\n",
        "plt.title(\"Conspiracy theory proven!!!\")\n",
        "plt.xlabel(\"Per capita alcohol consumption\")\n",
        "plt.ylabel(\"# Layers in state of the art image classifier\")\n",
        "\n",
        "# fun with correlations: http://bit.ly/1FcNnWF"
      ],
      "execution_count": 35,
      "outputs": [
        {
          "output_type": "execute_result",
          "data": {
            "text/plain": [
              "Text(0, 0.5, '# Layers in state of the art image classifier')"
            ]
          },
          "metadata": {
            "tags": []
          },
          "execution_count": 35
        },
        {
          "output_type": "display_data",
          "data": {
            "image/png": "[encoded data removed]",
            "text/plain": [
              "<Figure size 432x288 with 1 Axes>"
            ]
          },
          "metadata": {
            "tags": [],
            "needs_background": "light"
          }
        }
      ]
    },
    {
      "cell_type": "code",
      "metadata": {
        "id": "PVpy4O5lxIjO",
        "colab": {
          "base_uri": "https://localhost:8080/",
          "height": 564
        },
        "outputId": "cfe40695-a8c2-40a4-99e5-9f1f616a2818"
      },
      "source": [
        "# histogram - showing data density\n",
        "plt.hist([0, 1, 1, 1, 2, 2, 3, 3, 3, 3, 3, 4, 4, 5, 5, 5, 6, 7, 7, 8, 9, 10])\n",
        "plt.show()\n",
        "\n",
        "plt.hist([0, 1, 1, 1, 2, 2, 3, 3, 3, 3, 3, 4,\n",
        "          4, 5, 5, 5, 6, 7, 7, 8, 9, 10], bins=5)"
      ],
      "execution_count": 36,
      "outputs": [
        {
          "output_type": "display_data",
          "data": {
            "image/png": "[encoded data removed]",
            "text/plain": [
              "<Figure size 432x288 with 1 Axes>"
            ]
          },
          "metadata": {
            "tags": [],
            "needs_background": "light"
          }
        },
        {
          "output_type": "execute_result",
          "data": {
            "text/plain": [
              "(array([4., 7., 5., 3., 3.]),\n",
              " array([ 0.,  2.,  4.,  6.,  8., 10.]),\n",
              " <a list of 5 Patch objects>)"
            ]
          },
          "metadata": {
            "tags": []
          },
          "execution_count": 36
        },
        {
          "output_type": "display_data",
          "data": {
            "image/png": "[encoded data removed]",
            "text/plain": [
              "<Figure size 432x288 with 1 Axes>"
            ]
          },
          "metadata": {
            "tags": [],
            "needs_background": "light"
          }
        }
      ]
    },
    {
      "cell_type": "code",
      "metadata": {
        "id": "-lwb63mdxIjO",
        "colab": {
          "base_uri": "https://localhost:8080/",
          "height": 782
        },
        "outputId": "d3af63a9-aad4-4a97-b6f1-f2784a6e9750"
      },
      "source": [
        "# plot a histogram of age and a histogram of ticket fares on separate plots\n",
        "\n",
        "plt.hist(data['Age'])\n",
        "plt.show()\n",
        "\n",
        "plt.hist(data['Fare'])\n",
        "plt.show()\n",
        "\n",
        "# bonus: use tab shift-tab to see if there is a way to draw a 2D histogram of age vs fare.\n",
        "plt.hist2d('Age', 'Fare', data=data,  )\n",
        "plt.colorbar()"
      ],
      "execution_count": 42,
      "outputs": [
        {
          "output_type": "display_data",
          "data": {
            "image/png": "[encoded data removed]",
            "text/plain": [
              "<Figure size 432x288 with 1 Axes>"
            ]
          },
          "metadata": {
            "tags": [],
            "needs_background": "light"
          }
        },
        {
          "output_type": "display_data",
          "data": {
            "image/png": "[encoded data removed]",
            "text/plain": [
              "<Figure size 432x288 with 1 Axes>"
            ]
          },
          "metadata": {
            "tags": [],
            "needs_background": "light"
          }
        },
        {
          "output_type": "execute_result",
          "data": {
            "text/plain": [
              "<matplotlib.colorbar.Colorbar at 0x7fd56f3d68d0>"
            ]
          },
          "metadata": {
            "tags": []
          },
          "execution_count": 42
        },
        {
          "output_type": "display_data",
          "data": {
            "image/png": "[encoded data removed]",
            "text/plain": [
              "<Figure size 432x288 with 2 Axes>"
            ]
          },
          "metadata": {
            "tags": [],
            "needs_background": "light"
          }
        }
      ]
    },
    {
      "cell_type": "code",
      "metadata": {
        "id": "UkiOwpsZxIjP",
        "colab": {
          "base_uri": "https://localhost:8080/",
          "height": 312
        },
        "outputId": "20a5bf89-3107-4997-ed95-a963635cd3cd"
      },
      "source": [
        "# make a scatter plot of passenger age vs ticket fare\n",
        "\n",
        "plt.scatter('Age', 'Fare', c=(data['Sex']=='male'), data=data)\n",
        "plt.title(\"Age vs Fare\")\n",
        "plt.xlabel(\"Age\")\n",
        "plt.ylabel(\"Fare\")\n",
        "\n",
        "# kudos if you add separate colors for men and women"
      ],
      "execution_count": 48,
      "outputs": [
        {
          "output_type": "execute_result",
          "data": {
            "text/plain": [
              "Text(0, 0.5, 'Fare')"
            ]
          },
          "metadata": {
            "tags": []
          },
          "execution_count": 48
        },
        {
          "output_type": "display_data",
          "data": {
            "image/png": "[encoded data removed]",
            "text/plain": [
              "<Figure size 432x288 with 1 Axes>"
            ]
          },
          "metadata": {
            "tags": [],
            "needs_background": "light"
          }
        }
      ]
    },
    {
      "cell_type": "markdown",
      "metadata": {
        "id": "WDbZChP8xIjP"
      },
      "source": [
        "* Extended [tutorial](https://matplotlib.org/2.0.2/users/pyplot_tutorial.html)\n",
        "* A [cheat sheet](http://bit.ly/2koHxNF)\n",
        "* Other libraries for more sophisticated stuff: [Plotly](https://plot.ly/python/) and [Bokeh](https://bokeh.pydata.org/en/latest/)"
      ]
    },
    {
      "cell_type": "markdown",
      "metadata": {
        "id": "vQdNpXKaxIjP"
      },
      "source": [
        "### Part V (final): machine learning with scikit-learn\n",
        "\n",
        "<img src='https://imgs.xkcd.com/comics/machine_learning.png' width=320px>\n",
        "\n",
        "Scikit-learn is _the_ tool for simple machine learning pipelines. \n",
        "\n",
        "It's a single library that unites a whole bunch of models under the common interface:\n",
        "* Create: `model = sklearn.whatever.ModelNameHere(parameters_if_any)`\n",
        "* Train: `model.fit(X, y)`\n",
        "* Predict: `model.predict(X_test)`\n",
        "\n",
        "It also contains utilities for feature extraction, quality estimation or cross-validation."
      ]
    },
    {
      "cell_type": "code",
      "metadata": {
        "colab": {
          "base_uri": "https://localhost:8080/"
        },
        "id": "DGg5SxjTait_",
        "outputId": "75795a36-ada3-4b74-d2e3-116514072091"
      },
      "source": [
        "data['Embarked'].fillna('missing', inplace=True)\n",
        "data['Embarked'].unique()"
      ],
      "execution_count": 95,
      "outputs": [
        {
          "output_type": "execute_result",
          "data": {
            "text/plain": [
              "array(['S', 'C', 'Q', 'missing'], dtype=object)"
            ]
          },
          "metadata": {
            "tags": []
          },
          "execution_count": 95
        }
      ]
    },
    {
      "cell_type": "code",
      "metadata": {
        "id": "U1X6jJ2gxIjP",
        "colab": {
          "base_uri": "https://localhost:8080/"
        },
        "outputId": "114722e7-9c97-464b-b6e7-473758f4422e"
      },
      "source": [
        "from sklearn.ensemble import RandomForestClassifier\n",
        "from sklearn.metrics import accuracy_score\n",
        "from sklearn import preprocessing\n",
        "\n",
        "label1 = preprocessing.LabelEncoder()\n",
        "label1.fit(['male', 'female'])\n",
        "data['Sex_label']=label1.transform(data['Sex'])\n",
        "\n",
        "label2 = preprocessing.LabelEncoder()\n",
        "label2.fit(list(data['Embarked'].unique()))\n",
        "data['Embarked_label']=label2.transform(data['Embarked'])\n",
        "\n",
        "features = data[[\"Fare\", \"SibSp\", \"Age\", \"Parch\", \"Pclass\", \"Sex_label\", \"Embarked_label\"]].copy()\n",
        "answers = data[\"Survived\"]\n",
        "\n",
        "model = RandomForestClassifier(n_estimators=100)\n",
        "model.fit(features[:-100], answers[:-100])\n",
        "\n",
        "test_predictions = model.predict(features[-100:])\n",
        "print(\"Test accuracy:\", accuracy_score(answers[-100:], test_predictions))"
      ],
      "execution_count": 104,
      "outputs": [
        {
          "output_type": "stream",
          "text": [
            "Test accuracy: 0.85\n"
          ],
          "name": "stdout"
        }
      ]
    },
    {
      "cell_type": "code",
      "metadata": {
        "colab": {
          "base_uri": "https://localhost:8080/",
          "height": 266
        },
        "id": "zADRmg_NWNnd",
        "outputId": "4aecba46-84ad-450e-ce6a-78a38705a009"
      },
      "source": [
        "pd.DataFrame(data=model.feature_importances_, \n",
        "             index=[\"Fare\", \"SibSp\", \"Age\", \"Parch\", \"Pclass\", \"Sex_label\", \"Embarked_label\"], \n",
        "             columns=['feature importances']\n",
        "             ).sort_values(by='feature importances', ascending=False)"
      ],
      "execution_count": 118,
      "outputs": [
        {
          "output_type": "execute_result",
          "data": {
            "text/html": [
              "<div>\n",
              "<style scoped>\n",
              "    .dataframe tbody tr th:only-of-type {\n",
              "        vertical-align: middle;\n",
              "    }\n",
              "\n",
              "    .dataframe tbody tr th {\n",
              "        vertical-align: top;\n",
              "    }\n",
              "\n",
              "    .dataframe thead th {\n",
              "        text-align: right;\n",
              "    }\n",
              "</style>\n",
              "<table border=\"1\" class=\"dataframe\">\n",
              "  <thead>\n",
              "    <tr style=\"text-align: right;\">\n",
              "      <th></th>\n",
              "      <th>feature importances</th>\n",
              "    </tr>\n",
              "  </thead>\n",
              "  <tbody>\n",
              "    <tr>\n",
              "      <th>Fare</th>\n",
              "      <td>0.278759</td>\n",
              "    </tr>\n",
              "    <tr>\n",
              "      <th>Age</th>\n",
              "      <td>0.264606</td>\n",
              "    </tr>\n",
              "    <tr>\n",
              "      <th>Sex_label</th>\n",
              "      <td>0.256567</td>\n",
              "    </tr>\n",
              "    <tr>\n",
              "      <th>Pclass</th>\n",
              "      <td>0.082339</td>\n",
              "    </tr>\n",
              "    <tr>\n",
              "      <th>SibSp</th>\n",
              "      <td>0.047881</td>\n",
              "    </tr>\n",
              "    <tr>\n",
              "      <th>Parch</th>\n",
              "      <td>0.037374</td>\n",
              "    </tr>\n",
              "    <tr>\n",
              "      <th>Embarked_label</th>\n",
              "      <td>0.032475</td>\n",
              "    </tr>\n",
              "  </tbody>\n",
              "</table>\n",
              "</div>"
            ],
            "text/plain": [
              "                feature importances\n",
              "Fare                       0.278759\n",
              "Age                        0.264606\n",
              "Sex_label                  0.256567\n",
              "Pclass                     0.082339\n",
              "SibSp                      0.047881\n",
              "Parch                      0.037374\n",
              "Embarked_label             0.032475"
            ]
          },
          "metadata": {
            "tags": []
          },
          "execution_count": 118
        }
      ]
    },
    {
      "cell_type": "markdown",
      "metadata": {
        "id": "ZcOVU5-GxIjQ"
      },
      "source": [
        "Final quest: add more features to achieve accuracy of at least 0.80\n",
        "\n",
        "__Hint:__ for string features like \"Sex\" or \"Embarked\" you will have to compute some kind of numeric representation.\n",
        "For example, 1 if male and 0 if female or vice versa \n",
        "\n",
        "__Hint II:__ you can use `model.feature_importances_` to get a hint on how much did it rely each of your features."
      ]
    },
    {
      "cell_type": "markdown",
      "metadata": {
        "id": "Q2GNamu5xIjQ"
      },
      "source": [
        "Here are more resources for sklearn:\n",
        "\n",
        "* [Tutorials](http://scikit-learn.org/stable/tutorial/index.html)\n",
        "* [Examples](http://scikit-learn.org/stable/auto_examples/index.html)\n",
        "* [Cheat sheet](http://scikit-learn.org/stable/_static/ml_map.png)"
      ]
    },
    {
      "cell_type": "markdown",
      "metadata": {
        "id": "VEZlOR2gxIjR"
      },
      "source": [
        "---\n",
        "\n",
        "\n",
        "Okay, here's what we've learned: to survive a shipwreck you need to become an underaged girl with parents on the ship. Be sure to use this helpful advice next time you find yourself in a shipwreck."
      ]
    }
  ]
}